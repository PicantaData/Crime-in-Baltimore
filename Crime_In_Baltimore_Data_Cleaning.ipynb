{
  "cells": [
    {
      "cell_type": "markdown",
      "source": [
        "# Name: Krupesh Parmar\n",
        "# ID: 202101160"
      ],
      "metadata": {
        "id": "1nXyNN3n_jdb"
      }
    },
    {
      "cell_type": "markdown",
      "metadata": {
        "id": "nx_QuSMyHM2a"
      },
      "source": [
        "# Dataset: [Crime In Baltimore](https://www.kaggle.com/datasets/sohier/crime-in-baltimore)\n",
        "\n",
        "## About Dataset\n",
        "This dataset provides information about the crimes commited in Baltimore city. This dataset is accessible from the link provided above. The dataset covers crimes commited in the city between the years 2016-2020.\n",
        "\n",
        "This project consists of 6 parts:\n",
        "1. Introduction\n",
        "2. Data Cleaning\n",
        "3. Data visualization\n",
        "4. Data Preprocessing\n",
        "5. Modeling\n",
        "6. Conclusion"
      ]
    },
    {
      "cell_type": "markdown",
      "metadata": {
        "id": "WiKh_eqmJsii"
      },
      "source": [
        "# 1. Introduction\n",
        "\n",
        "This data consists of total 15 columns and 2,76,529 observations.\n",
        "\n",
        "## Attribute description:\n",
        "* **CrimeDate:** Date of committed crime\n",
        "* **CrimeTime:** Time of Committed crime\n",
        "* **CrimeCode:** A unique code assigned to crime based of crime type and weapon used\n",
        "* **Location:** Location of commited crime\n",
        "* **Inside/Outside:** Flag shows whether crime was commited inside the house or not\n",
        "* **Weapon:** Description of weapon used in crime\n",
        "* **Post:** Code of nearby police station\n",
        "* **District:** District of location of committed crime\n",
        "* **Neighbourhood:** Neighborhood of place of incident\n",
        "* **Longitude:** longitude of location of committed crime\n",
        "* **Latitude:** latitude of location of committed crime\n",
        "* **Location 1:** tuple of consisting longitude and latitude\n",
        "* **Premise:** Premise\n",
        "* **Total incidents:** No. of incident in a crime\n"
      ]
    },
    {
      "cell_type": "markdown",
      "metadata": {
        "id": "j4FQ-NHqUl_j"
      },
      "source": [
        "## **Let's look at the dataset**"
      ]
    },
    {
      "cell_type": "code",
      "execution_count": null,
      "metadata": {
        "id": "A84qUC2sG7FP"
      },
      "outputs": [],
      "source": [
        "# import required libraries\n",
        "import numpy as np\n",
        "import pandas as pd"
      ]
    },
    {
      "cell_type": "code",
      "execution_count": null,
      "metadata": {
        "colab": {
          "base_uri": "https://localhost:8080/"
        },
        "id": "FfKVTnZR8UeI",
        "outputId": "dfd5e308-8803-4bb9-a5c3-60d4cc4f9d05"
      },
      "outputs": [
        {
          "name": "stdout",
          "output_type": "stream",
          "text": [
            "Drive already mounted at /content/drive; to attempt to forcibly remount, call drive.mount(\"/content/drive\", force_remount=True).\n"
          ]
        }
      ],
      "source": [
        "from google.colab import drive\n",
        "drive.mount('/content/drive')"
      ]
    },
    {
      "cell_type": "code",
      "execution_count": null,
      "metadata": {
        "colab": {
          "base_uri": "https://localhost:8080/",
          "height": 365
        },
        "id": "sai-vsZIrmGK",
        "outputId": "a54137bd-cd8b-44ab-b2fc-1b0a114dee7c"
      },
      "outputs": [
        {
          "data": {
            "text/html": [
              "\n",
              "  <div id=\"df-8069cdc3-864e-41b2-9f5d-26f6ac45cd22\" class=\"colab-df-container\">\n",
              "    <div>\n",
              "<style scoped>\n",
              "    .dataframe tbody tr th:only-of-type {\n",
              "        vertical-align: middle;\n",
              "    }\n",
              "\n",
              "    .dataframe tbody tr th {\n",
              "        vertical-align: top;\n",
              "    }\n",
              "\n",
              "    .dataframe thead th {\n",
              "        text-align: right;\n",
              "    }\n",
              "</style>\n",
              "<table border=\"1\" class=\"dataframe\">\n",
              "  <thead>\n",
              "    <tr style=\"text-align: right;\">\n",
              "      <th></th>\n",
              "      <th>CrimeDate</th>\n",
              "      <th>CrimeTime</th>\n",
              "      <th>CrimeCode</th>\n",
              "      <th>Location</th>\n",
              "      <th>Description</th>\n",
              "      <th>Inside/Outside</th>\n",
              "      <th>Weapon</th>\n",
              "      <th>Post</th>\n",
              "      <th>District</th>\n",
              "      <th>Neighborhood</th>\n",
              "      <th>Longitude</th>\n",
              "      <th>Latitude</th>\n",
              "      <th>Location 1</th>\n",
              "      <th>Premise</th>\n",
              "      <th>Total Incidents</th>\n",
              "    </tr>\n",
              "  </thead>\n",
              "  <tbody>\n",
              "    <tr>\n",
              "      <th>0</th>\n",
              "      <td>09/02/2017</td>\n",
              "      <td>23:30:00</td>\n",
              "      <td>3JK</td>\n",
              "      <td>4200 AUDREY AVE</td>\n",
              "      <td>ROBBERY - RESIDENCE</td>\n",
              "      <td>I</td>\n",
              "      <td>KNIFE</td>\n",
              "      <td>913.0</td>\n",
              "      <td>SOUTHERN</td>\n",
              "      <td>Brooklyn</td>\n",
              "      <td>-76.60541</td>\n",
              "      <td>39.22951</td>\n",
              "      <td>(39.2295100000, -76.6054100000)</td>\n",
              "      <td>ROW/TOWNHO</td>\n",
              "      <td>1</td>\n",
              "    </tr>\n",
              "    <tr>\n",
              "      <th>1</th>\n",
              "      <td>09/02/2017</td>\n",
              "      <td>23:00:00</td>\n",
              "      <td>7A</td>\n",
              "      <td>800 NEWINGTON AVE</td>\n",
              "      <td>AUTO THEFT</td>\n",
              "      <td>O</td>\n",
              "      <td>NaN</td>\n",
              "      <td>133.0</td>\n",
              "      <td>CENTRAL</td>\n",
              "      <td>Reservoir Hill</td>\n",
              "      <td>-76.63217</td>\n",
              "      <td>39.31360</td>\n",
              "      <td>(39.3136000000, -76.6321700000)</td>\n",
              "      <td>STREET</td>\n",
              "      <td>1</td>\n",
              "    </tr>\n",
              "    <tr>\n",
              "      <th>2</th>\n",
              "      <td>09/02/2017</td>\n",
              "      <td>22:53:00</td>\n",
              "      <td>9S</td>\n",
              "      <td>600 RADNOR AV</td>\n",
              "      <td>SHOOTING</td>\n",
              "      <td>Outside</td>\n",
              "      <td>FIREARM</td>\n",
              "      <td>524.0</td>\n",
              "      <td>NORTHERN</td>\n",
              "      <td>Winston-Govans</td>\n",
              "      <td>-76.60697</td>\n",
              "      <td>39.34768</td>\n",
              "      <td>(39.3476800000, -76.6069700000)</td>\n",
              "      <td>Street</td>\n",
              "      <td>1</td>\n",
              "    </tr>\n",
              "    <tr>\n",
              "      <th>3</th>\n",
              "      <td>09/02/2017</td>\n",
              "      <td>22:50:00</td>\n",
              "      <td>4C</td>\n",
              "      <td>1800 RAMSAY ST</td>\n",
              "      <td>AGG. ASSAULT</td>\n",
              "      <td>I</td>\n",
              "      <td>OTHER</td>\n",
              "      <td>934.0</td>\n",
              "      <td>SOUTHERN</td>\n",
              "      <td>Carrollton Ridge</td>\n",
              "      <td>-76.64526</td>\n",
              "      <td>39.28315</td>\n",
              "      <td>(39.2831500000, -76.6452600000)</td>\n",
              "      <td>ROW/TOWNHO</td>\n",
              "      <td>1</td>\n",
              "    </tr>\n",
              "    <tr>\n",
              "      <th>4</th>\n",
              "      <td>09/02/2017</td>\n",
              "      <td>22:31:00</td>\n",
              "      <td>4E</td>\n",
              "      <td>100 LIGHT ST</td>\n",
              "      <td>COMMON ASSAULT</td>\n",
              "      <td>O</td>\n",
              "      <td>HANDS</td>\n",
              "      <td>113.0</td>\n",
              "      <td>CENTRAL</td>\n",
              "      <td>Downtown West</td>\n",
              "      <td>-76.61365</td>\n",
              "      <td>39.28756</td>\n",
              "      <td>(39.2875600000, -76.6136500000)</td>\n",
              "      <td>STREET</td>\n",
              "      <td>1</td>\n",
              "    </tr>\n",
              "  </tbody>\n",
              "</table>\n",
              "</div>\n",
              "    <div class=\"colab-df-buttons\">\n",
              "\n",
              "  <div class=\"colab-df-container\">\n",
              "    <button class=\"colab-df-convert\" onclick=\"convertToInteractive('df-8069cdc3-864e-41b2-9f5d-26f6ac45cd22')\"\n",
              "            title=\"Convert this dataframe to an interactive table.\"\n",
              "            style=\"display:none;\">\n",
              "\n",
              "  <svg xmlns=\"http://www.w3.org/2000/svg\" height=\"24px\" viewBox=\"0 -960 960 960\">\n",
              "    <path d=\"M120-120v-720h720v720H120Zm60-500h600v-160H180v160Zm220 220h160v-160H400v160Zm0 220h160v-160H400v160ZM180-400h160v-160H180v160Zm440 0h160v-160H620v160ZM180-180h160v-160H180v160Zm440 0h160v-160H620v160Z\"/>\n",
              "  </svg>\n",
              "    </button>\n",
              "\n",
              "  <style>\n",
              "    .colab-df-container {\n",
              "      display:flex;\n",
              "      gap: 12px;\n",
              "    }\n",
              "\n",
              "    .colab-df-convert {\n",
              "      background-color: #E8F0FE;\n",
              "      border: none;\n",
              "      border-radius: 50%;\n",
              "      cursor: pointer;\n",
              "      display: none;\n",
              "      fill: #1967D2;\n",
              "      height: 32px;\n",
              "      padding: 0 0 0 0;\n",
              "      width: 32px;\n",
              "    }\n",
              "\n",
              "    .colab-df-convert:hover {\n",
              "      background-color: #E2EBFA;\n",
              "      box-shadow: 0px 1px 2px rgba(60, 64, 67, 0.3), 0px 1px 3px 1px rgba(60, 64, 67, 0.15);\n",
              "      fill: #174EA6;\n",
              "    }\n",
              "\n",
              "    .colab-df-buttons div {\n",
              "      margin-bottom: 4px;\n",
              "    }\n",
              "\n",
              "    [theme=dark] .colab-df-convert {\n",
              "      background-color: #3B4455;\n",
              "      fill: #D2E3FC;\n",
              "    }\n",
              "\n",
              "    [theme=dark] .colab-df-convert:hover {\n",
              "      background-color: #434B5C;\n",
              "      box-shadow: 0px 1px 3px 1px rgba(0, 0, 0, 0.15);\n",
              "      filter: drop-shadow(0px 1px 2px rgba(0, 0, 0, 0.3));\n",
              "      fill: #FFFFFF;\n",
              "    }\n",
              "  </style>\n",
              "\n",
              "    <script>\n",
              "      const buttonEl =\n",
              "        document.querySelector('#df-8069cdc3-864e-41b2-9f5d-26f6ac45cd22 button.colab-df-convert');\n",
              "      buttonEl.style.display =\n",
              "        google.colab.kernel.accessAllowed ? 'block' : 'none';\n",
              "\n",
              "      async function convertToInteractive(key) {\n",
              "        const element = document.querySelector('#df-8069cdc3-864e-41b2-9f5d-26f6ac45cd22');\n",
              "        const dataTable =\n",
              "          await google.colab.kernel.invokeFunction('convertToInteractive',\n",
              "                                                    [key], {});\n",
              "        if (!dataTable) return;\n",
              "\n",
              "        const docLinkHtml = 'Like what you see? Visit the ' +\n",
              "          '<a target=\"_blank\" href=https://colab.research.google.com/notebooks/data_table.ipynb>data table notebook</a>'\n",
              "          + ' to learn more about interactive tables.';\n",
              "        element.innerHTML = '';\n",
              "        dataTable['output_type'] = 'display_data';\n",
              "        await google.colab.output.renderOutput(dataTable, element);\n",
              "        const docLink = document.createElement('div');\n",
              "        docLink.innerHTML = docLinkHtml;\n",
              "        element.appendChild(docLink);\n",
              "      }\n",
              "    </script>\n",
              "  </div>\n",
              "\n",
              "\n",
              "<div id=\"df-abee5e58-c709-44d4-be03-b697552ccbb8\">\n",
              "  <button class=\"colab-df-quickchart\" onclick=\"quickchart('df-abee5e58-c709-44d4-be03-b697552ccbb8')\"\n",
              "            title=\"Suggest charts.\"\n",
              "            style=\"display:none;\">\n",
              "\n",
              "<svg xmlns=\"http://www.w3.org/2000/svg\" height=\"24px\"viewBox=\"0 0 24 24\"\n",
              "     width=\"24px\">\n",
              "    <g>\n",
              "        <path d=\"M19 3H5c-1.1 0-2 .9-2 2v14c0 1.1.9 2 2 2h14c1.1 0 2-.9 2-2V5c0-1.1-.9-2-2-2zM9 17H7v-7h2v7zm4 0h-2V7h2v10zm4 0h-2v-4h2v4z\"/>\n",
              "    </g>\n",
              "</svg>\n",
              "  </button>\n",
              "\n",
              "<style>\n",
              "  .colab-df-quickchart {\n",
              "      --bg-color: #E8F0FE;\n",
              "      --fill-color: #1967D2;\n",
              "      --hover-bg-color: #E2EBFA;\n",
              "      --hover-fill-color: #174EA6;\n",
              "      --disabled-fill-color: #AAA;\n",
              "      --disabled-bg-color: #DDD;\n",
              "  }\n",
              "\n",
              "  [theme=dark] .colab-df-quickchart {\n",
              "      --bg-color: #3B4455;\n",
              "      --fill-color: #D2E3FC;\n",
              "      --hover-bg-color: #434B5C;\n",
              "      --hover-fill-color: #FFFFFF;\n",
              "      --disabled-bg-color: #3B4455;\n",
              "      --disabled-fill-color: #666;\n",
              "  }\n",
              "\n",
              "  .colab-df-quickchart {\n",
              "    background-color: var(--bg-color);\n",
              "    border: none;\n",
              "    border-radius: 50%;\n",
              "    cursor: pointer;\n",
              "    display: none;\n",
              "    fill: var(--fill-color);\n",
              "    height: 32px;\n",
              "    padding: 0;\n",
              "    width: 32px;\n",
              "  }\n",
              "\n",
              "  .colab-df-quickchart:hover {\n",
              "    background-color: var(--hover-bg-color);\n",
              "    box-shadow: 0 1px 2px rgba(60, 64, 67, 0.3), 0 1px 3px 1px rgba(60, 64, 67, 0.15);\n",
              "    fill: var(--button-hover-fill-color);\n",
              "  }\n",
              "\n",
              "  .colab-df-quickchart-complete:disabled,\n",
              "  .colab-df-quickchart-complete:disabled:hover {\n",
              "    background-color: var(--disabled-bg-color);\n",
              "    fill: var(--disabled-fill-color);\n",
              "    box-shadow: none;\n",
              "  }\n",
              "\n",
              "  .colab-df-spinner {\n",
              "    border: 2px solid var(--fill-color);\n",
              "    border-color: transparent;\n",
              "    border-bottom-color: var(--fill-color);\n",
              "    animation:\n",
              "      spin 1s steps(1) infinite;\n",
              "  }\n",
              "\n",
              "  @keyframes spin {\n",
              "    0% {\n",
              "      border-color: transparent;\n",
              "      border-bottom-color: var(--fill-color);\n",
              "      border-left-color: var(--fill-color);\n",
              "    }\n",
              "    20% {\n",
              "      border-color: transparent;\n",
              "      border-left-color: var(--fill-color);\n",
              "      border-top-color: var(--fill-color);\n",
              "    }\n",
              "    30% {\n",
              "      border-color: transparent;\n",
              "      border-left-color: var(--fill-color);\n",
              "      border-top-color: var(--fill-color);\n",
              "      border-right-color: var(--fill-color);\n",
              "    }\n",
              "    40% {\n",
              "      border-color: transparent;\n",
              "      border-right-color: var(--fill-color);\n",
              "      border-top-color: var(--fill-color);\n",
              "    }\n",
              "    60% {\n",
              "      border-color: transparent;\n",
              "      border-right-color: var(--fill-color);\n",
              "    }\n",
              "    80% {\n",
              "      border-color: transparent;\n",
              "      border-right-color: var(--fill-color);\n",
              "      border-bottom-color: var(--fill-color);\n",
              "    }\n",
              "    90% {\n",
              "      border-color: transparent;\n",
              "      border-bottom-color: var(--fill-color);\n",
              "    }\n",
              "  }\n",
              "</style>\n",
              "\n",
              "  <script>\n",
              "    async function quickchart(key) {\n",
              "      const quickchartButtonEl =\n",
              "        document.querySelector('#' + key + ' button');\n",
              "      quickchartButtonEl.disabled = true;  // To prevent multiple clicks.\n",
              "      quickchartButtonEl.classList.add('colab-df-spinner');\n",
              "      try {\n",
              "        const charts = await google.colab.kernel.invokeFunction(\n",
              "            'suggestCharts', [key], {});\n",
              "      } catch (error) {\n",
              "        console.error('Error during call to suggestCharts:', error);\n",
              "      }\n",
              "      quickchartButtonEl.classList.remove('colab-df-spinner');\n",
              "      quickchartButtonEl.classList.add('colab-df-quickchart-complete');\n",
              "    }\n",
              "    (() => {\n",
              "      let quickchartButtonEl =\n",
              "        document.querySelector('#df-abee5e58-c709-44d4-be03-b697552ccbb8 button');\n",
              "      quickchartButtonEl.style.display =\n",
              "        google.colab.kernel.accessAllowed ? 'block' : 'none';\n",
              "    })();\n",
              "  </script>\n",
              "</div>\n",
              "    </div>\n",
              "  </div>\n"
            ],
            "text/plain": [
              "    CrimeDate CrimeTime CrimeCode           Location          Description  \\\n",
              "0  09/02/2017  23:30:00       3JK    4200 AUDREY AVE  ROBBERY - RESIDENCE   \n",
              "1  09/02/2017  23:00:00        7A  800 NEWINGTON AVE           AUTO THEFT   \n",
              "2  09/02/2017  22:53:00        9S      600 RADNOR AV             SHOOTING   \n",
              "3  09/02/2017  22:50:00        4C     1800 RAMSAY ST         AGG. ASSAULT   \n",
              "4  09/02/2017  22:31:00        4E       100 LIGHT ST       COMMON ASSAULT   \n",
              "\n",
              "  Inside/Outside   Weapon   Post  District      Neighborhood  Longitude  \\\n",
              "0              I    KNIFE  913.0  SOUTHERN          Brooklyn  -76.60541   \n",
              "1              O      NaN  133.0   CENTRAL    Reservoir Hill  -76.63217   \n",
              "2        Outside  FIREARM  524.0  NORTHERN    Winston-Govans  -76.60697   \n",
              "3              I    OTHER  934.0  SOUTHERN  Carrollton Ridge  -76.64526   \n",
              "4              O    HANDS  113.0   CENTRAL     Downtown West  -76.61365   \n",
              "\n",
              "   Latitude                       Location 1     Premise  Total Incidents  \n",
              "0  39.22951  (39.2295100000, -76.6054100000)  ROW/TOWNHO                1  \n",
              "1  39.31360  (39.3136000000, -76.6321700000)      STREET                1  \n",
              "2  39.34768  (39.3476800000, -76.6069700000)      Street                1  \n",
              "3  39.28315  (39.2831500000, -76.6452600000)  ROW/TOWNHO                1  \n",
              "4  39.28756  (39.2875600000, -76.6136500000)      STREET                1  "
            ]
          },
          "execution_count": 31,
          "metadata": {},
          "output_type": "execute_result"
        }
      ],
      "source": [
        "df = pd.read_csv(\"drive/My Drive/Data Mining/Project/Assignment - 01/BPD_Part_1_Victim_Based_Crime_Data.csv\")\n",
        "df.head()"
      ]
    },
    {
      "cell_type": "code",
      "execution_count": null,
      "metadata": {
        "colab": {
          "base_uri": "https://localhost:8080/"
        },
        "id": "0w8Gu2dRr9xw",
        "outputId": "b7e8fe10-1400-435a-d98c-40293ab324d3"
      },
      "outputs": [
        {
          "data": {
            "text/plain": [
              "(276529, 15)"
            ]
          },
          "execution_count": 32,
          "metadata": {},
          "output_type": "execute_result"
        }
      ],
      "source": [
        "df.shape"
      ]
    },
    {
      "cell_type": "code",
      "execution_count": null,
      "metadata": {
        "colab": {
          "base_uri": "https://localhost:8080/"
        },
        "id": "T_SsmGdpudGp",
        "outputId": "be3d532a-dc0b-4860-b3a9-7ccd99bfe189"
      },
      "outputs": [
        {
          "data": {
            "text/plain": [
              "['CrimeDate',\n",
              " 'CrimeTime',\n",
              " 'CrimeCode',\n",
              " 'Location',\n",
              " 'Description',\n",
              " 'Inside/Outside',\n",
              " 'Weapon',\n",
              " 'Post',\n",
              " 'District',\n",
              " 'Neighborhood',\n",
              " 'Longitude',\n",
              " 'Latitude',\n",
              " 'Location 1',\n",
              " 'Premise',\n",
              " 'Total Incidents']"
            ]
          },
          "execution_count": 38,
          "metadata": {},
          "output_type": "execute_result"
        }
      ],
      "source": [
        "columns = df.columns.tolist()\n",
        "columns"
      ]
    },
    {
      "cell_type": "code",
      "execution_count": null,
      "metadata": {
        "colab": {
          "base_uri": "https://localhost:8080/"
        },
        "id": "DEFu65-DsS8r",
        "outputId": "85df0519-e80d-483c-e6be-b59454570da9"
      },
      "outputs": [
        {
          "data": {
            "text/plain": [
              "CrimeDate               0\n",
              "CrimeTime               0\n",
              "CrimeCode               0\n",
              "Location             2207\n",
              "Description             0\n",
              "Inside/Outside      10279\n",
              "Weapon             180952\n",
              "Post                  224\n",
              "District               80\n",
              "Neighborhood         2740\n",
              "Longitude            2204\n",
              "Latitude             2204\n",
              "Location 1           2204\n",
              "Premise             10757\n",
              "Total Incidents         0\n",
              "dtype: int64"
            ]
          },
          "execution_count": 34,
          "metadata": {},
          "output_type": "execute_result"
        }
      ],
      "source": [
        "df.isna().sum()"
      ]
    },
    {
      "cell_type": "markdown",
      "metadata": {
        "id": "O4i2AtknwWcY"
      },
      "source": [
        "# 2. Data Cleaning"
      ]
    },
    {
      "cell_type": "markdown",
      "metadata": {
        "id": "SDQLJV9stnox"
      },
      "source": [
        "As it is visible that, there are 1,80,952 cells are null in the weapons column. Which is around 65% rows of the whole data.\n",
        "Dropping this rows can lead to loss of much significant data, which can reduce the quality of the dataset.\n",
        "\n",
        "To deal with this null values, we can look at some other attributes, which can be related to this attribute. Like, Crime type can help to determine which type of weapon is used in a perticular crime."
      ]
    },
    {
      "cell_type": "code",
      "execution_count": null,
      "metadata": {
        "colab": {
          "base_uri": "https://localhost:8080/"
        },
        "id": "Xyb67OiAzCs-",
        "outputId": "ae854530-a410-45e3-faab-ab749e233d7e"
      },
      "outputs": [
        {
          "data": {
            "text/plain": [
              "{'ARSON',\n",
              " 'ASSAULT BY THREAT',\n",
              " 'AUTO THEFT',\n",
              " 'BURGLARY',\n",
              " 'LARCENY',\n",
              " 'LARCENY FROM AUTO',\n",
              " 'RAPE',\n",
              " 'ROBBERY - CARJACKING',\n",
              " 'ROBBERY - COMMERCIAL',\n",
              " 'ROBBERY - RESIDENCE',\n",
              " 'ROBBERY - STREET'}"
            ]
          },
          "execution_count": 37,
          "metadata": {},
          "output_type": "execute_result"
        }
      ],
      "source": [
        "# Find the list of crime types in which there are null entries in the weapon column\n",
        "crime_with_no_weapon = set()\n",
        "for idx in df.index:\n",
        "    if pd.isna(df['Weapon'][idx]):\n",
        "        crime_with_no_weapon.add(df['Description'][idx])\n",
        "crime_with_no_weapon"
      ]
    },
    {
      "cell_type": "markdown",
      "metadata": {
        "id": "dmFc2bnCoRdK"
      },
      "source": [
        "## Crime type details:\n",
        "\n",
        "* **Arson:** the criminal act of deliberately setting fire to property.\n",
        "* **Assault by threat:** a threat or attempt to inflict offensive physical contact or bodily harm on a person that puts the person in immediate danger of or in apprehension\n",
        "* **Auto theft:** the criminal act of stealing or attempting to steal a motor vehicle\n",
        "* **Burglary:** llegal entry of a building with intent to commit a crime, especially theft.\n",
        "* **Larceny:** theft of personal property\n",
        "* **Rape:** to force someone to have sex when they are unwilling, using violence or threatening behaviour\n",
        "* **Robbery:** the action of taking property unlawfully from a person or place by force or threat of force"
      ]
    },
    {
      "cell_type": "markdown",
      "metadata": {
        "id": "oorVhe1535iv"
      },
      "source": [
        "As it visible that where weapon values are not available, the associated crime types are mostly robbery, theft, arson, larceny, etc. In these types of crime most of the time there are not any weapon involved in crime.\n",
        "\n",
        "So, the blank cells in weapon cells doesn't indicate that the data is missing, but we can conclude that there could no weapons involved in the crime at the first place.\n",
        "\n",
        "So, we can fill all this blank cells with the \"No weapon\" value."
      ]
    },
    {
      "cell_type": "code",
      "execution_count": null,
      "metadata": {
        "id": "e7Kwi48e5Bsb"
      },
      "outputs": [],
      "source": [
        "# fill blank cells in weapon column with \"No weapon\" value\n",
        "df['Weapon'].fillna(\"NO WEAPON\", inplace = True)"
      ]
    },
    {
      "cell_type": "code",
      "execution_count": null,
      "metadata": {
        "colab": {
          "base_uri": "https://localhost:8080/"
        },
        "id": "9RoZoi605c04",
        "outputId": "8711c4e1-ca50-4a57-a964-9b1d2d1058c7"
      },
      "outputs": [
        {
          "data": {
            "text/plain": [
              "1    276529\n",
              "Name: Total Incidents, dtype: int64"
            ]
          },
          "execution_count": 10,
          "metadata": {},
          "output_type": "execute_result"
        }
      ],
      "source": [
        "df['Total Incidents'].value_counts()"
      ]
    },
    {
      "cell_type": "markdown",
      "metadata": {
        "id": "rmoHQ4wd6MFN"
      },
      "source": [
        "In the 'Total Incident' columns all the entries are filled with value 1. Which does not provide any value to the dataset. So, there is no loss in dataset quality in dropping this columns."
      ]
    },
    {
      "cell_type": "markdown",
      "metadata": {
        "id": "Eeehe-XA66CJ"
      },
      "source": [
        "After this, the 'Location 1' columns contains the tuple of (Longitude, Latitude) as values. There are also separate columns for Longitude and Latitude as well. So, dropping the Location 1 column also does not affect the dataset quality."
      ]
    },
    {
      "cell_type": "code",
      "execution_count": null,
      "metadata": {
        "colab": {
          "base_uri": "https://localhost:8080/",
          "height": 206
        },
        "id": "jFeYs9xc7XZH",
        "outputId": "20f6ce11-5927-420c-8679-95849fdb65d8"
      },
      "outputs": [
        {
          "data": {
            "text/html": [
              "\n",
              "  <div id=\"df-274b0241-1548-4b6d-8078-b59a345dab7e\" class=\"colab-df-container\">\n",
              "    <div>\n",
              "<style scoped>\n",
              "    .dataframe tbody tr th:only-of-type {\n",
              "        vertical-align: middle;\n",
              "    }\n",
              "\n",
              "    .dataframe tbody tr th {\n",
              "        vertical-align: top;\n",
              "    }\n",
              "\n",
              "    .dataframe thead th {\n",
              "        text-align: right;\n",
              "    }\n",
              "</style>\n",
              "<table border=\"1\" class=\"dataframe\">\n",
              "  <thead>\n",
              "    <tr style=\"text-align: right;\">\n",
              "      <th></th>\n",
              "      <th>CrimeDate</th>\n",
              "      <th>CrimeTime</th>\n",
              "      <th>CrimeCode</th>\n",
              "      <th>Location</th>\n",
              "      <th>Description</th>\n",
              "      <th>Inside/Outside</th>\n",
              "      <th>Weapon</th>\n",
              "      <th>Post</th>\n",
              "      <th>District</th>\n",
              "      <th>Neighborhood</th>\n",
              "      <th>Longitude</th>\n",
              "      <th>Latitude</th>\n",
              "      <th>Premise</th>\n",
              "    </tr>\n",
              "  </thead>\n",
              "  <tbody>\n",
              "    <tr>\n",
              "      <th>0</th>\n",
              "      <td>09/02/2017</td>\n",
              "      <td>23:30:00</td>\n",
              "      <td>3JK</td>\n",
              "      <td>4200 AUDREY AVE</td>\n",
              "      <td>ROBBERY - RESIDENCE</td>\n",
              "      <td>I</td>\n",
              "      <td>KNIFE</td>\n",
              "      <td>913.0</td>\n",
              "      <td>SOUTHERN</td>\n",
              "      <td>Brooklyn</td>\n",
              "      <td>-76.60541</td>\n",
              "      <td>39.22951</td>\n",
              "      <td>ROW/TOWNHO</td>\n",
              "    </tr>\n",
              "    <tr>\n",
              "      <th>1</th>\n",
              "      <td>09/02/2017</td>\n",
              "      <td>23:00:00</td>\n",
              "      <td>7A</td>\n",
              "      <td>800 NEWINGTON AVE</td>\n",
              "      <td>AUTO THEFT</td>\n",
              "      <td>O</td>\n",
              "      <td>NO WEAPON</td>\n",
              "      <td>133.0</td>\n",
              "      <td>CENTRAL</td>\n",
              "      <td>Reservoir Hill</td>\n",
              "      <td>-76.63217</td>\n",
              "      <td>39.31360</td>\n",
              "      <td>STREET</td>\n",
              "    </tr>\n",
              "    <tr>\n",
              "      <th>2</th>\n",
              "      <td>09/02/2017</td>\n",
              "      <td>22:53:00</td>\n",
              "      <td>9S</td>\n",
              "      <td>600 RADNOR AV</td>\n",
              "      <td>SHOOTING</td>\n",
              "      <td>Outside</td>\n",
              "      <td>FIREARM</td>\n",
              "      <td>524.0</td>\n",
              "      <td>NORTHERN</td>\n",
              "      <td>Winston-Govans</td>\n",
              "      <td>-76.60697</td>\n",
              "      <td>39.34768</td>\n",
              "      <td>Street</td>\n",
              "    </tr>\n",
              "    <tr>\n",
              "      <th>3</th>\n",
              "      <td>09/02/2017</td>\n",
              "      <td>22:50:00</td>\n",
              "      <td>4C</td>\n",
              "      <td>1800 RAMSAY ST</td>\n",
              "      <td>AGG. ASSAULT</td>\n",
              "      <td>I</td>\n",
              "      <td>OTHER</td>\n",
              "      <td>934.0</td>\n",
              "      <td>SOUTHERN</td>\n",
              "      <td>Carrollton Ridge</td>\n",
              "      <td>-76.64526</td>\n",
              "      <td>39.28315</td>\n",
              "      <td>ROW/TOWNHO</td>\n",
              "    </tr>\n",
              "    <tr>\n",
              "      <th>4</th>\n",
              "      <td>09/02/2017</td>\n",
              "      <td>22:31:00</td>\n",
              "      <td>4E</td>\n",
              "      <td>100 LIGHT ST</td>\n",
              "      <td>COMMON ASSAULT</td>\n",
              "      <td>O</td>\n",
              "      <td>HANDS</td>\n",
              "      <td>113.0</td>\n",
              "      <td>CENTRAL</td>\n",
              "      <td>Downtown West</td>\n",
              "      <td>-76.61365</td>\n",
              "      <td>39.28756</td>\n",
              "      <td>STREET</td>\n",
              "    </tr>\n",
              "  </tbody>\n",
              "</table>\n",
              "</div>\n",
              "    <div class=\"colab-df-buttons\">\n",
              "\n",
              "  <div class=\"colab-df-container\">\n",
              "    <button class=\"colab-df-convert\" onclick=\"convertToInteractive('df-274b0241-1548-4b6d-8078-b59a345dab7e')\"\n",
              "            title=\"Convert this dataframe to an interactive table.\"\n",
              "            style=\"display:none;\">\n",
              "\n",
              "  <svg xmlns=\"http://www.w3.org/2000/svg\" height=\"24px\" viewBox=\"0 -960 960 960\">\n",
              "    <path d=\"M120-120v-720h720v720H120Zm60-500h600v-160H180v160Zm220 220h160v-160H400v160Zm0 220h160v-160H400v160ZM180-400h160v-160H180v160Zm440 0h160v-160H620v160ZM180-180h160v-160H180v160Zm440 0h160v-160H620v160Z\"/>\n",
              "  </svg>\n",
              "    </button>\n",
              "\n",
              "  <style>\n",
              "    .colab-df-container {\n",
              "      display:flex;\n",
              "      gap: 12px;\n",
              "    }\n",
              "\n",
              "    .colab-df-convert {\n",
              "      background-color: #E8F0FE;\n",
              "      border: none;\n",
              "      border-radius: 50%;\n",
              "      cursor: pointer;\n",
              "      display: none;\n",
              "      fill: #1967D2;\n",
              "      height: 32px;\n",
              "      padding: 0 0 0 0;\n",
              "      width: 32px;\n",
              "    }\n",
              "\n",
              "    .colab-df-convert:hover {\n",
              "      background-color: #E2EBFA;\n",
              "      box-shadow: 0px 1px 2px rgba(60, 64, 67, 0.3), 0px 1px 3px 1px rgba(60, 64, 67, 0.15);\n",
              "      fill: #174EA6;\n",
              "    }\n",
              "\n",
              "    .colab-df-buttons div {\n",
              "      margin-bottom: 4px;\n",
              "    }\n",
              "\n",
              "    [theme=dark] .colab-df-convert {\n",
              "      background-color: #3B4455;\n",
              "      fill: #D2E3FC;\n",
              "    }\n",
              "\n",
              "    [theme=dark] .colab-df-convert:hover {\n",
              "      background-color: #434B5C;\n",
              "      box-shadow: 0px 1px 3px 1px rgba(0, 0, 0, 0.15);\n",
              "      filter: drop-shadow(0px 1px 2px rgba(0, 0, 0, 0.3));\n",
              "      fill: #FFFFFF;\n",
              "    }\n",
              "  </style>\n",
              "\n",
              "    <script>\n",
              "      const buttonEl =\n",
              "        document.querySelector('#df-274b0241-1548-4b6d-8078-b59a345dab7e button.colab-df-convert');\n",
              "      buttonEl.style.display =\n",
              "        google.colab.kernel.accessAllowed ? 'block' : 'none';\n",
              "\n",
              "      async function convertToInteractive(key) {\n",
              "        const element = document.querySelector('#df-274b0241-1548-4b6d-8078-b59a345dab7e');\n",
              "        const dataTable =\n",
              "          await google.colab.kernel.invokeFunction('convertToInteractive',\n",
              "                                                    [key], {});\n",
              "        if (!dataTable) return;\n",
              "\n",
              "        const docLinkHtml = 'Like what you see? Visit the ' +\n",
              "          '<a target=\"_blank\" href=https://colab.research.google.com/notebooks/data_table.ipynb>data table notebook</a>'\n",
              "          + ' to learn more about interactive tables.';\n",
              "        element.innerHTML = '';\n",
              "        dataTable['output_type'] = 'display_data';\n",
              "        await google.colab.output.renderOutput(dataTable, element);\n",
              "        const docLink = document.createElement('div');\n",
              "        docLink.innerHTML = docLinkHtml;\n",
              "        element.appendChild(docLink);\n",
              "      }\n",
              "    </script>\n",
              "  </div>\n",
              "\n",
              "\n",
              "<div id=\"df-12927e49-3f5e-4d52-9c50-f32506121a57\">\n",
              "  <button class=\"colab-df-quickchart\" onclick=\"quickchart('df-12927e49-3f5e-4d52-9c50-f32506121a57')\"\n",
              "            title=\"Suggest charts.\"\n",
              "            style=\"display:none;\">\n",
              "\n",
              "<svg xmlns=\"http://www.w3.org/2000/svg\" height=\"24px\"viewBox=\"0 0 24 24\"\n",
              "     width=\"24px\">\n",
              "    <g>\n",
              "        <path d=\"M19 3H5c-1.1 0-2 .9-2 2v14c0 1.1.9 2 2 2h14c1.1 0 2-.9 2-2V5c0-1.1-.9-2-2-2zM9 17H7v-7h2v7zm4 0h-2V7h2v10zm4 0h-2v-4h2v4z\"/>\n",
              "    </g>\n",
              "</svg>\n",
              "  </button>\n",
              "\n",
              "<style>\n",
              "  .colab-df-quickchart {\n",
              "      --bg-color: #E8F0FE;\n",
              "      --fill-color: #1967D2;\n",
              "      --hover-bg-color: #E2EBFA;\n",
              "      --hover-fill-color: #174EA6;\n",
              "      --disabled-fill-color: #AAA;\n",
              "      --disabled-bg-color: #DDD;\n",
              "  }\n",
              "\n",
              "  [theme=dark] .colab-df-quickchart {\n",
              "      --bg-color: #3B4455;\n",
              "      --fill-color: #D2E3FC;\n",
              "      --hover-bg-color: #434B5C;\n",
              "      --hover-fill-color: #FFFFFF;\n",
              "      --disabled-bg-color: #3B4455;\n",
              "      --disabled-fill-color: #666;\n",
              "  }\n",
              "\n",
              "  .colab-df-quickchart {\n",
              "    background-color: var(--bg-color);\n",
              "    border: none;\n",
              "    border-radius: 50%;\n",
              "    cursor: pointer;\n",
              "    display: none;\n",
              "    fill: var(--fill-color);\n",
              "    height: 32px;\n",
              "    padding: 0;\n",
              "    width: 32px;\n",
              "  }\n",
              "\n",
              "  .colab-df-quickchart:hover {\n",
              "    background-color: var(--hover-bg-color);\n",
              "    box-shadow: 0 1px 2px rgba(60, 64, 67, 0.3), 0 1px 3px 1px rgba(60, 64, 67, 0.15);\n",
              "    fill: var(--button-hover-fill-color);\n",
              "  }\n",
              "\n",
              "  .colab-df-quickchart-complete:disabled,\n",
              "  .colab-df-quickchart-complete:disabled:hover {\n",
              "    background-color: var(--disabled-bg-color);\n",
              "    fill: var(--disabled-fill-color);\n",
              "    box-shadow: none;\n",
              "  }\n",
              "\n",
              "  .colab-df-spinner {\n",
              "    border: 2px solid var(--fill-color);\n",
              "    border-color: transparent;\n",
              "    border-bottom-color: var(--fill-color);\n",
              "    animation:\n",
              "      spin 1s steps(1) infinite;\n",
              "  }\n",
              "\n",
              "  @keyframes spin {\n",
              "    0% {\n",
              "      border-color: transparent;\n",
              "      border-bottom-color: var(--fill-color);\n",
              "      border-left-color: var(--fill-color);\n",
              "    }\n",
              "    20% {\n",
              "      border-color: transparent;\n",
              "      border-left-color: var(--fill-color);\n",
              "      border-top-color: var(--fill-color);\n",
              "    }\n",
              "    30% {\n",
              "      border-color: transparent;\n",
              "      border-left-color: var(--fill-color);\n",
              "      border-top-color: var(--fill-color);\n",
              "      border-right-color: var(--fill-color);\n",
              "    }\n",
              "    40% {\n",
              "      border-color: transparent;\n",
              "      border-right-color: var(--fill-color);\n",
              "      border-top-color: var(--fill-color);\n",
              "    }\n",
              "    60% {\n",
              "      border-color: transparent;\n",
              "      border-right-color: var(--fill-color);\n",
              "    }\n",
              "    80% {\n",
              "      border-color: transparent;\n",
              "      border-right-color: var(--fill-color);\n",
              "      border-bottom-color: var(--fill-color);\n",
              "    }\n",
              "    90% {\n",
              "      border-color: transparent;\n",
              "      border-bottom-color: var(--fill-color);\n",
              "    }\n",
              "  }\n",
              "</style>\n",
              "\n",
              "  <script>\n",
              "    async function quickchart(key) {\n",
              "      const quickchartButtonEl =\n",
              "        document.querySelector('#' + key + ' button');\n",
              "      quickchartButtonEl.disabled = true;  // To prevent multiple clicks.\n",
              "      quickchartButtonEl.classList.add('colab-df-spinner');\n",
              "      try {\n",
              "        const charts = await google.colab.kernel.invokeFunction(\n",
              "            'suggestCharts', [key], {});\n",
              "      } catch (error) {\n",
              "        console.error('Error during call to suggestCharts:', error);\n",
              "      }\n",
              "      quickchartButtonEl.classList.remove('colab-df-spinner');\n",
              "      quickchartButtonEl.classList.add('colab-df-quickchart-complete');\n",
              "    }\n",
              "    (() => {\n",
              "      let quickchartButtonEl =\n",
              "        document.querySelector('#df-12927e49-3f5e-4d52-9c50-f32506121a57 button');\n",
              "      quickchartButtonEl.style.display =\n",
              "        google.colab.kernel.accessAllowed ? 'block' : 'none';\n",
              "    })();\n",
              "  </script>\n",
              "</div>\n",
              "    </div>\n",
              "  </div>\n"
            ],
            "text/plain": [
              "    CrimeDate CrimeTime CrimeCode           Location          Description  \\\n",
              "0  09/02/2017  23:30:00       3JK    4200 AUDREY AVE  ROBBERY - RESIDENCE   \n",
              "1  09/02/2017  23:00:00        7A  800 NEWINGTON AVE           AUTO THEFT   \n",
              "2  09/02/2017  22:53:00        9S      600 RADNOR AV             SHOOTING   \n",
              "3  09/02/2017  22:50:00        4C     1800 RAMSAY ST         AGG. ASSAULT   \n",
              "4  09/02/2017  22:31:00        4E       100 LIGHT ST       COMMON ASSAULT   \n",
              "\n",
              "  Inside/Outside     Weapon   Post  District      Neighborhood  Longitude  \\\n",
              "0              I      KNIFE  913.0  SOUTHERN          Brooklyn  -76.60541   \n",
              "1              O  NO WEAPON  133.0   CENTRAL    Reservoir Hill  -76.63217   \n",
              "2        Outside    FIREARM  524.0  NORTHERN    Winston-Govans  -76.60697   \n",
              "3              I      OTHER  934.0  SOUTHERN  Carrollton Ridge  -76.64526   \n",
              "4              O      HANDS  113.0   CENTRAL     Downtown West  -76.61365   \n",
              "\n",
              "   Latitude     Premise  \n",
              "0  39.22951  ROW/TOWNHO  \n",
              "1  39.31360      STREET  \n",
              "2  39.34768      Street  \n",
              "3  39.28315  ROW/TOWNHO  \n",
              "4  39.28756      STREET  "
            ]
          },
          "execution_count": 11,
          "metadata": {},
          "output_type": "execute_result"
        }
      ],
      "source": [
        "# dropping Total Incident and Location 1 columns\n",
        "df.drop(['Total Incidents', 'Location 1'], axis=1, inplace=True)\n",
        "df.head()"
      ]
    },
    {
      "cell_type": "code",
      "execution_count": null,
      "metadata": {
        "colab": {
          "base_uri": "https://localhost:8080/"
        },
        "id": "uEJyfRZX9B5D",
        "outputId": "7a54f615-4047-4e33-c356-62238c3534af"
      },
      "outputs": [
        {
          "data": {
            "text/plain": [
              "I          131999\n",
              "O          129782\n",
              "Outside      3837\n",
              "Inside        632\n",
              "Name: Inside/Outside, dtype: int64"
            ]
          },
          "execution_count": 12,
          "metadata": {},
          "output_type": "execute_result"
        }
      ],
      "source": [
        "df['Inside/Outside'].value_counts()"
      ]
    },
    {
      "cell_type": "markdown",
      "metadata": {
        "id": "vFJ_EoKi9JVD"
      },
      "source": [
        "Here, 'I' indicates Inside and 'O' indicates outside. There are also few entries in which Outside is written insted of O, and Inside is written insted of I. So, we should change those values with O and I respectively to maintain data integrity."
      ]
    },
    {
      "cell_type": "code",
      "execution_count": null,
      "metadata": {
        "colab": {
          "base_uri": "https://localhost:8080/"
        },
        "id": "NYFmzysI9mf7",
        "outputId": "6eec0c31-665f-4649-96f6-9a2e071a10af"
      },
      "outputs": [
        {
          "data": {
            "text/plain": [
              "O    133619\n",
              "I    132631\n",
              "Name: Inside/Outside, dtype: int64"
            ]
          },
          "execution_count": 13,
          "metadata": {},
          "output_type": "execute_result"
        }
      ],
      "source": [
        "df.loc[df['Inside/Outside'] == \"Outside\", 'Inside/Outside'] = 'O'\n",
        "df.loc[df['Inside/Outside'] == \"Inside\", 'Inside/Outside'] = 'I'\n",
        "df['Inside/Outside'].value_counts()"
      ]
    },
    {
      "cell_type": "code",
      "execution_count": null,
      "metadata": {
        "id": "lCIyihUh8Gde"
      },
      "outputs": [],
      "source": [
        "# After all this, if there are still some entries with null or none values drop them\n",
        "df.dropna(inplace = True)"
      ]
    },
    {
      "cell_type": "code",
      "execution_count": null,
      "metadata": {
        "colab": {
          "base_uri": "https://localhost:8080/"
        },
        "id": "Bf3bALMF-xme",
        "outputId": "d8f89e1c-0885-4b06-9977-9c3f53f6734d"
      },
      "outputs": [
        {
          "data": {
            "text/plain": [
              "(CrimeDate          0\n",
              " CrimeTime          0\n",
              " CrimeCode          0\n",
              " Location           0\n",
              " Description        0\n",
              " Inside/Outside     0\n",
              " Weapon             0\n",
              " Post               0\n",
              " District           0\n",
              " Neighborhood       0\n",
              " Longitude          0\n",
              " Latitude           0\n",
              " Location 1         0\n",
              " Premise            0\n",
              " Total Incidents    0\n",
              " dtype: int64,\n",
              " (89943, 15))"
            ]
          },
          "execution_count": 40,
          "metadata": {},
          "output_type": "execute_result"
        }
      ],
      "source": [
        "df.isna().sum(), df.shape"
      ]
    },
    {
      "cell_type": "markdown",
      "metadata": {
        "id": "cNvvw154T49r"
      },
      "source": [
        "We would now save our cleaned data frame into cleaned.csv file"
      ]
    },
    {
      "cell_type": "code",
      "execution_count": null,
      "metadata": {
        "id": "iBHdSuvmTb_X"
      },
      "outputs": [],
      "source": [
        "df.to_csv(\"cleaned.csv\")"
      ]
    },
    {
      "cell_type": "markdown",
      "metadata": {
        "id": "RpBFBOx693Ss"
      },
      "source": [
        "# 3. Modeling"
      ]
    },
    {
      "cell_type": "markdown",
      "metadata": {
        "id": "wcsnzCjc-BN5"
      },
      "source": [
        "### What are we going to predict ?"
      ]
    },
    {
      "cell_type": "markdown",
      "metadata": {
        "id": "d_Sk1-Wu-CQi"
      },
      "source": [
        "Based on the following attributes we are going to predict time at which it is not safe to go out in that locality.\n",
        "\n",
        "*   Crime Description\n",
        "*   Weapon type\n",
        "*   Crime category(inside/outside)\n",
        "*   Crime district"
      ]
    },
    {
      "cell_type": "markdown",
      "metadata": {
        "id": "P4ADcouC-p9N"
      },
      "source": [
        "### Model Type"
      ]
    },
    {
      "cell_type": "markdown",
      "metadata": {
        "id": "bx0d8Kdg-F6G"
      },
      "source": [
        "* We are going to use RandomForest regression as regression technique.\n",
        "* Random forests or random decision forests is an ensemble learning method for classification, regression and other tasks that operates by constructing a multitude of decision trees at training time. For classification tasks, the output of the random forest is the class selected by most trees.\n"
      ]
    },
    {
      "cell_type": "markdown",
      "metadata": {
        "id": "KhsrbKYm-oeg"
      },
      "source": [
        "![image.png](data:image/png;base64,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)"
      ]
    },
    {
      "cell_type": "markdown",
      "metadata": {
        "id": "hRtd64DE2ffC"
      },
      "source": [
        "To perform modeling we need to import pre-processed dataset we got after performing pre-processing on the dataset."
      ]
    },
    {
      "cell_type": "code",
      "execution_count": null,
      "metadata": {
        "id": "SXCtCVjK-6KV"
      },
      "outputs": [],
      "source": [
        "# importing pre-processed csv file\n",
        "df_pre = df = pd.read_csv(\"drive/My Drive/Data Mining/Project/Assignment - 01/PreProcessed.csv\")"
      ]
    },
    {
      "cell_type": "code",
      "execution_count": null,
      "metadata": {
        "colab": {
          "base_uri": "https://localhost:8080/",
          "height": 206
        },
        "id": "fEs-LLUY-ISF",
        "outputId": "2cf3033d-acba-4963-8330-2a071a7a42d0"
      },
      "outputs": [
        {
          "data": {
            "text/html": [
              "\n",
              "  <div id=\"df-82fa7736-9ddf-4a9b-a81b-ac2d0cf823d0\" class=\"colab-df-container\">\n",
              "    <div>\n",
              "<style scoped>\n",
              "    .dataframe tbody tr th:only-of-type {\n",
              "        vertical-align: middle;\n",
              "    }\n",
              "\n",
              "    .dataframe tbody tr th {\n",
              "        vertical-align: top;\n",
              "    }\n",
              "\n",
              "    .dataframe thead th {\n",
              "        text-align: right;\n",
              "    }\n",
              "</style>\n",
              "<table border=\"1\" class=\"dataframe\">\n",
              "  <thead>\n",
              "    <tr style=\"text-align: right;\">\n",
              "      <th></th>\n",
              "      <th>Description</th>\n",
              "      <th>District</th>\n",
              "      <th>Inside/Outside</th>\n",
              "      <th>Weapon</th>\n",
              "    </tr>\n",
              "  </thead>\n",
              "  <tbody>\n",
              "    <tr>\n",
              "      <th>0</th>\n",
              "      <td>4</td>\n",
              "      <td>1</td>\n",
              "      <td>2</td>\n",
              "      <td>4</td>\n",
              "    </tr>\n",
              "    <tr>\n",
              "      <th>1</th>\n",
              "      <td>1</td>\n",
              "      <td>7</td>\n",
              "      <td>1</td>\n",
              "      <td>5</td>\n",
              "    </tr>\n",
              "    <tr>\n",
              "      <th>2</th>\n",
              "      <td>6</td>\n",
              "      <td>1</td>\n",
              "      <td>2</td>\n",
              "      <td>2</td>\n",
              "    </tr>\n",
              "    <tr>\n",
              "      <th>3</th>\n",
              "      <td>5</td>\n",
              "      <td>7</td>\n",
              "      <td>1</td>\n",
              "      <td>4</td>\n",
              "    </tr>\n",
              "    <tr>\n",
              "      <th>4</th>\n",
              "      <td>1</td>\n",
              "      <td>5</td>\n",
              "      <td>2</td>\n",
              "      <td>5</td>\n",
              "    </tr>\n",
              "  </tbody>\n",
              "</table>\n",
              "</div>\n",
              "    <div class=\"colab-df-buttons\">\n",
              "\n",
              "  <div class=\"colab-df-container\">\n",
              "    <button class=\"colab-df-convert\" onclick=\"convertToInteractive('df-82fa7736-9ddf-4a9b-a81b-ac2d0cf823d0')\"\n",
              "            title=\"Convert this dataframe to an interactive table.\"\n",
              "            style=\"display:none;\">\n",
              "\n",
              "  <svg xmlns=\"http://www.w3.org/2000/svg\" height=\"24px\" viewBox=\"0 -960 960 960\">\n",
              "    <path d=\"M120-120v-720h720v720H120Zm60-500h600v-160H180v160Zm220 220h160v-160H400v160Zm0 220h160v-160H400v160ZM180-400h160v-160H180v160Zm440 0h160v-160H620v160ZM180-180h160v-160H180v160Zm440 0h160v-160H620v160Z\"/>\n",
              "  </svg>\n",
              "    </button>\n",
              "\n",
              "  <style>\n",
              "    .colab-df-container {\n",
              "      display:flex;\n",
              "      gap: 12px;\n",
              "    }\n",
              "\n",
              "    .colab-df-convert {\n",
              "      background-color: #E8F0FE;\n",
              "      border: none;\n",
              "      border-radius: 50%;\n",
              "      cursor: pointer;\n",
              "      display: none;\n",
              "      fill: #1967D2;\n",
              "      height: 32px;\n",
              "      padding: 0 0 0 0;\n",
              "      width: 32px;\n",
              "    }\n",
              "\n",
              "    .colab-df-convert:hover {\n",
              "      background-color: #E2EBFA;\n",
              "      box-shadow: 0px 1px 2px rgba(60, 64, 67, 0.3), 0px 1px 3px 1px rgba(60, 64, 67, 0.15);\n",
              "      fill: #174EA6;\n",
              "    }\n",
              "\n",
              "    .colab-df-buttons div {\n",
              "      margin-bottom: 4px;\n",
              "    }\n",
              "\n",
              "    [theme=dark] .colab-df-convert {\n",
              "      background-color: #3B4455;\n",
              "      fill: #D2E3FC;\n",
              "    }\n",
              "\n",
              "    [theme=dark] .colab-df-convert:hover {\n",
              "      background-color: #434B5C;\n",
              "      box-shadow: 0px 1px 3px 1px rgba(0, 0, 0, 0.15);\n",
              "      filter: drop-shadow(0px 1px 2px rgba(0, 0, 0, 0.3));\n",
              "      fill: #FFFFFF;\n",
              "    }\n",
              "  </style>\n",
              "\n",
              "    <script>\n",
              "      const buttonEl =\n",
              "        document.querySelector('#df-82fa7736-9ddf-4a9b-a81b-ac2d0cf823d0 button.colab-df-convert');\n",
              "      buttonEl.style.display =\n",
              "        google.colab.kernel.accessAllowed ? 'block' : 'none';\n",
              "\n",
              "      async function convertToInteractive(key) {\n",
              "        const element = document.querySelector('#df-82fa7736-9ddf-4a9b-a81b-ac2d0cf823d0');\n",
              "        const dataTable =\n",
              "          await google.colab.kernel.invokeFunction('convertToInteractive',\n",
              "                                                    [key], {});\n",
              "        if (!dataTable) return;\n",
              "\n",
              "        const docLinkHtml = 'Like what you see? Visit the ' +\n",
              "          '<a target=\"_blank\" href=https://colab.research.google.com/notebooks/data_table.ipynb>data table notebook</a>'\n",
              "          + ' to learn more about interactive tables.';\n",
              "        element.innerHTML = '';\n",
              "        dataTable['output_type'] = 'display_data';\n",
              "        await google.colab.output.renderOutput(dataTable, element);\n",
              "        const docLink = document.createElement('div');\n",
              "        docLink.innerHTML = docLinkHtml;\n",
              "        element.appendChild(docLink);\n",
              "      }\n",
              "    </script>\n",
              "  </div>\n",
              "\n",
              "\n",
              "<div id=\"df-b9b1422f-f71e-40fe-a1a8-bbe354d8a072\">\n",
              "  <button class=\"colab-df-quickchart\" onclick=\"quickchart('df-b9b1422f-f71e-40fe-a1a8-bbe354d8a072')\"\n",
              "            title=\"Suggest charts.\"\n",
              "            style=\"display:none;\">\n",
              "\n",
              "<svg xmlns=\"http://www.w3.org/2000/svg\" height=\"24px\"viewBox=\"0 0 24 24\"\n",
              "     width=\"24px\">\n",
              "    <g>\n",
              "        <path d=\"M19 3H5c-1.1 0-2 .9-2 2v14c0 1.1.9 2 2 2h14c1.1 0 2-.9 2-2V5c0-1.1-.9-2-2-2zM9 17H7v-7h2v7zm4 0h-2V7h2v10zm4 0h-2v-4h2v4z\"/>\n",
              "    </g>\n",
              "</svg>\n",
              "  </button>\n",
              "\n",
              "<style>\n",
              "  .colab-df-quickchart {\n",
              "      --bg-color: #E8F0FE;\n",
              "      --fill-color: #1967D2;\n",
              "      --hover-bg-color: #E2EBFA;\n",
              "      --hover-fill-color: #174EA6;\n",
              "      --disabled-fill-color: #AAA;\n",
              "      --disabled-bg-color: #DDD;\n",
              "  }\n",
              "\n",
              "  [theme=dark] .colab-df-quickchart {\n",
              "      --bg-color: #3B4455;\n",
              "      --fill-color: #D2E3FC;\n",
              "      --hover-bg-color: #434B5C;\n",
              "      --hover-fill-color: #FFFFFF;\n",
              "      --disabled-bg-color: #3B4455;\n",
              "      --disabled-fill-color: #666;\n",
              "  }\n",
              "\n",
              "  .colab-df-quickchart {\n",
              "    background-color: var(--bg-color);\n",
              "    border: none;\n",
              "    border-radius: 50%;\n",
              "    cursor: pointer;\n",
              "    display: none;\n",
              "    fill: var(--fill-color);\n",
              "    height: 32px;\n",
              "    padding: 0;\n",
              "    width: 32px;\n",
              "  }\n",
              "\n",
              "  .colab-df-quickchart:hover {\n",
              "    background-color: var(--hover-bg-color);\n",
              "    box-shadow: 0 1px 2px rgba(60, 64, 67, 0.3), 0 1px 3px 1px rgba(60, 64, 67, 0.15);\n",
              "    fill: var(--button-hover-fill-color);\n",
              "  }\n",
              "\n",
              "  .colab-df-quickchart-complete:disabled,\n",
              "  .colab-df-quickchart-complete:disabled:hover {\n",
              "    background-color: var(--disabled-bg-color);\n",
              "    fill: var(--disabled-fill-color);\n",
              "    box-shadow: none;\n",
              "  }\n",
              "\n",
              "  .colab-df-spinner {\n",
              "    border: 2px solid var(--fill-color);\n",
              "    border-color: transparent;\n",
              "    border-bottom-color: var(--fill-color);\n",
              "    animation:\n",
              "      spin 1s steps(1) infinite;\n",
              "  }\n",
              "\n",
              "  @keyframes spin {\n",
              "    0% {\n",
              "      border-color: transparent;\n",
              "      border-bottom-color: var(--fill-color);\n",
              "      border-left-color: var(--fill-color);\n",
              "    }\n",
              "    20% {\n",
              "      border-color: transparent;\n",
              "      border-left-color: var(--fill-color);\n",
              "      border-top-color: var(--fill-color);\n",
              "    }\n",
              "    30% {\n",
              "      border-color: transparent;\n",
              "      border-left-color: var(--fill-color);\n",
              "      border-top-color: var(--fill-color);\n",
              "      border-right-color: var(--fill-color);\n",
              "    }\n",
              "    40% {\n",
              "      border-color: transparent;\n",
              "      border-right-color: var(--fill-color);\n",
              "      border-top-color: var(--fill-color);\n",
              "    }\n",
              "    60% {\n",
              "      border-color: transparent;\n",
              "      border-right-color: var(--fill-color);\n",
              "    }\n",
              "    80% {\n",
              "      border-color: transparent;\n",
              "      border-right-color: var(--fill-color);\n",
              "      border-bottom-color: var(--fill-color);\n",
              "    }\n",
              "    90% {\n",
              "      border-color: transparent;\n",
              "      border-bottom-color: var(--fill-color);\n",
              "    }\n",
              "  }\n",
              "</style>\n",
              "\n",
              "  <script>\n",
              "    async function quickchart(key) {\n",
              "      const quickchartButtonEl =\n",
              "        document.querySelector('#' + key + ' button');\n",
              "      quickchartButtonEl.disabled = true;  // To prevent multiple clicks.\n",
              "      quickchartButtonEl.classList.add('colab-df-spinner');\n",
              "      try {\n",
              "        const charts = await google.colab.kernel.invokeFunction(\n",
              "            'suggestCharts', [key], {});\n",
              "      } catch (error) {\n",
              "        console.error('Error during call to suggestCharts:', error);\n",
              "      }\n",
              "      quickchartButtonEl.classList.remove('colab-df-spinner');\n",
              "      quickchartButtonEl.classList.add('colab-df-quickchart-complete');\n",
              "    }\n",
              "    (() => {\n",
              "      let quickchartButtonEl =\n",
              "        document.querySelector('#df-b9b1422f-f71e-40fe-a1a8-bbe354d8a072 button');\n",
              "      quickchartButtonEl.style.display =\n",
              "        google.colab.kernel.accessAllowed ? 'block' : 'none';\n",
              "    })();\n",
              "  </script>\n",
              "</div>\n",
              "    </div>\n",
              "  </div>\n"
            ],
            "text/plain": [
              "   Description  District  Inside/Outside  Weapon\n",
              "0            4         1               2       4\n",
              "1            1         7               1       5\n",
              "2            6         1               2       2\n",
              "3            5         7               1       4\n",
              "4            1         5               2       5"
            ]
          },
          "execution_count": 42,
          "metadata": {},
          "output_type": "execute_result"
        }
      ],
      "source": [
        "# Make dataframe for all the training features\n",
        "training_features = df[[\"Description\" , \"District\" , \"Inside/Outside\" , \"Weapon\"]]\n",
        "training_features.head()"
      ]
    },
    {
      "cell_type": "code",
      "execution_count": null,
      "metadata": {
        "id": "TnpR6m5rBsBY"
      },
      "outputs": [],
      "source": [
        "# import train_test_spilt to spilt the dataset for training and testing\n",
        "# import GridSearchCV to find the best fitted parameters for our traing model\n",
        "from sklearn.model_selection import train_test_split, GridSearchCV"
      ]
    },
    {
      "cell_type": "code",
      "execution_count": null,
      "metadata": {
        "id": "9OrAY2M4B44G"
      },
      "outputs": [],
      "source": [
        "# Split dataset for training and tesing\n",
        "X_train, X_test, y_train, y_test = train_test_split(training_features, df[\"CrimeTime\"], random_state=42, test_size=0.20)"
      ]
    },
    {
      "cell_type": "code",
      "execution_count": null,
      "metadata": {
        "id": "3HjFTHUCB9dr"
      },
      "outputs": [],
      "source": [
        "# import StandardScaler to resize the distribution values, so that the mean of the obsereved value becomes 0 and standard deviation becomes 1.\n",
        "# To normalize the data\n",
        "from sklearn.preprocessing import StandardScaler"
      ]
    },
    {
      "cell_type": "code",
      "execution_count": null,
      "metadata": {
        "colab": {
          "base_uri": "https://localhost:8080/"
        },
        "id": "xwDIMj1UB_Th",
        "outputId": "23999e8e-9e27-43ac-a05d-b3eb4ff076a6"
      },
      "outputs": [
        {
          "data": {
            "text/plain": [
              "((172313, 4), (43079, 4))"
            ]
          },
          "execution_count": 47,
          "metadata": {},
          "output_type": "execute_result"
        }
      ],
      "source": [
        "# Normalize X_train and X_test\n",
        "scaler = StandardScaler().fit(X_train)\n",
        "X_train_scaled = scaler.transform(X_train)\n",
        "X_test_scaled = scaler.transform(X_test)\n",
        "X_train_scaled.shape, X_test_scaled.shape"
      ]
    },
    {
      "cell_type": "code",
      "execution_count": null,
      "metadata": {
        "id": "Yruid5QrCBm5"
      },
      "outputs": [],
      "source": [
        "# import mean_squared_error, mean_absolute_error to find RMSE and MAE\n",
        "from sklearn.metrics import mean_squared_error, mean_absolute_error"
      ]
    },
    {
      "cell_type": "code",
      "execution_count": null,
      "metadata": {
        "colab": {
          "background_save": true
        },
        "id": "JO9OUhwdCEI2",
        "outputId": "833054ae-4652-4f39-d556-7bc0561a29d3"
      },
      "outputs": [
        {
          "name": "stdout",
          "output_type": "stream",
          "text": [
            "Training root mean sqaure error is  393.83140600394916\n",
            "Training mean absolute error is  326.04072297572014\n",
            "Best parameters are  {'max_depth': 7, 'max_features': 'sqrt', 'n_estimators': 20}\n",
            "Test root mean sqaure error is  393.3352964890662\n",
            "Test mean absolute error is  324.96194026086675\n"
          ]
        }
      ],
      "source": [
        "# Regression model - RandomForestRegressor\n",
        "from sklearn.ensemble import RandomForestRegressor\n",
        "\n",
        "randomForest = RandomForestRegressor(random_state = 42)\n",
        "parameters = {'n_estimators': list(range(5, 25, 5)), 'max_depth': list(range(1, 10, 2)), 'max_features': ['sqrt', 'log2', 'auto']}\n",
        "\n",
        "randomForest_regressor = GridSearchCV(randomForest, parameters, n_jobs=20, verbose=0)\n",
        "randomForest_regressor.fit(X_train_scaled, list(y_train))\n",
        "\n",
        "best_model = randomForest_regressor.best_estimator_\n",
        "\n",
        "y_train_predicted = best_model.predict(X_train_scaled)\n",
        "train_rmse = np.sqrt(mean_squared_error(list(y_train), y_train_predicted))\n",
        "train_mae = mean_absolute_error(list(y_train), y_train_predicted)\n",
        "\n",
        "print(\"Training root mean sqaure error is \" , train_rmse)\n",
        "print(\"Training mean absolute error is \" , train_mae)\n",
        "print(\"Best parameters are \" , randomForest_regressor.best_params_)\n",
        "\n",
        "y_predicted = best_model.predict(X_test_scaled)\n",
        "test_rmse = np.sqrt(mean_squared_error(list(y_test), y_predicted))\n",
        "test_mae = mean_absolute_error(list(y_test), y_predicted)\n",
        "\n",
        "print(\"Test root mean sqaure error is \" , test_rmse)\n",
        "print(\"Test mean absolute error is \" , test_mae)"
      ]
    },
    {
      "cell_type": "markdown",
      "source": [
        "#### This similar error in the training and testing data shows that the model worked well on the given dataset, and hasn't overfitted."
      ],
      "metadata": {
        "id": "5SMNewpgHrxW"
      }
    }
  ],
  "metadata": {
    "colab": {
      "provenance": []
    },
    "kernelspec": {
      "display_name": "Python 3",
      "name": "python3"
    },
    "language_info": {
      "name": "python"
    }
  },
  "nbformat": 4,
  "nbformat_minor": 0
}