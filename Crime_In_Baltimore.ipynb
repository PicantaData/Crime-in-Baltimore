{
  "nbformat": 4,
  "nbformat_minor": 0,
  "metadata": {
    "colab": {
      "provenance": []
    },
    "kernelspec": {
      "name": "python3",
      "display_name": "Python 3"
    },
    "language_info": {
      "name": "python"
    }
  },
  "cells": [
    {
      "cell_type": "markdown",
      "source": [
        "# Dataset: [Crime In Baltimore](https://www.kaggle.com/datasets/sohier/crime-in-baltimore)\n",
        "\n",
        "## About Dataset\n",
        "This dataset provides information about the crimes commited in Baltimore city. This dataset is accessible from the link provided above. The dataset covers crimes commited in the city between the years 2016-2020.\n",
        "\n",
        "This project consists of _ parts:\n",
        "1. Introduction\n",
        "2. Data Cleaning\n",
        "3. Data visualization\n",
        "4. Data Preprocessing\n",
        ". . .\n",
        "5. Conclusion"
      ],
      "metadata": {
        "id": "nx_QuSMyHM2a"
      }
    },
    {
      "cell_type": "markdown",
      "source": [
        "# 1. Introduction\n",
        "\n",
        "This data consists of total 15 columns and 2,76,529 observations.\n",
        "\n",
        "## Attribute description:\n",
        "* **CrimeDate:** Date of committed crime\n",
        "* **CrimeTime:** Time of Committed crime\n",
        "* **CrimeCode:** A unique code assigned to crime based of crime type and weapon used\n",
        "* **Location:** Location of commited crime\n",
        "* **Inside/Outside:** Flag shows whether crime was commited inside the house or not\n",
        "* **Weapon:** Description of weapon used in crime\n",
        "* **Post:**\n",
        "* **District:** District of location of committed crime\n",
        "* **Neighbourhood:**\n",
        "* **Longitude:** longitude of location of committed crime\n",
        "* **Latitude:** latitude of location of committed crime\n",
        "* **Location 1:** tuple of consisting longitude and latitude\n",
        "* **Primise:**\n",
        "* **Total incidents:**\n"
      ],
      "metadata": {
        "id": "WiKh_eqmJsii"
      }
    },
    {
      "cell_type": "markdown",
      "source": [
        "## **Let's look at the dataset**"
      ],
      "metadata": {
        "id": "j4FQ-NHqUl_j"
      }
    },
    {
      "cell_type": "code",
      "execution_count": 3,
      "metadata": {
        "id": "A84qUC2sG7FP"
      },
      "outputs": [],
      "source": [
        "# import required libraries\n",
        "import numpy as np\n",
        "import pandas as pd"
      ]
    },
    {
      "cell_type": "code",
      "source": [
        "from google.colab import drive\n",
        "drive.mount('/content/drive')"
      ],
      "metadata": {
        "colab": {
          "base_uri": "https://localhost:8080/"
        },
        "id": "FfKVTnZR8UeI",
        "outputId": "711bc686-a8f3-4c0e-ce3e-6544363cedf1"
      },
      "execution_count": 1,
      "outputs": [
        {
          "output_type": "stream",
          "name": "stdout",
          "text": [
            "Mounted at /content/drive\n"
          ]
        }
      ]
    },
    {
      "cell_type": "code",
      "source": [
        "df = pd.read_csv(\"drive/My Drive/Data Mining/Project/Assignment - 01/BPD_Part_1_Victim_Based_Crime_Data.csv\")\n",
        "df.head()"
      ],
      "metadata": {
        "colab": {
          "base_uri": "https://localhost:8080/",
          "height": 365
        },
        "id": "sai-vsZIrmGK",
        "outputId": "42ebf324-e0f4-4f53-d12d-45824b2f7906"
      },
      "execution_count": 4,
      "outputs": [
        {
          "output_type": "execute_result",
          "data": {
            "text/plain": [
              "    CrimeDate CrimeTime CrimeCode           Location          Description  \\\n",
              "0  09/02/2017  23:30:00       3JK    4200 AUDREY AVE  ROBBERY - RESIDENCE   \n",
              "1  09/02/2017  23:00:00        7A  800 NEWINGTON AVE           AUTO THEFT   \n",
              "2  09/02/2017  22:53:00        9S      600 RADNOR AV             SHOOTING   \n",
              "3  09/02/2017  22:50:00        4C     1800 RAMSAY ST         AGG. ASSAULT   \n",
              "4  09/02/2017  22:31:00        4E       100 LIGHT ST       COMMON ASSAULT   \n",
              "\n",
              "  Inside/Outside   Weapon   Post  District      Neighborhood  Longitude  \\\n",
              "0              I    KNIFE  913.0  SOUTHERN          Brooklyn  -76.60541   \n",
              "1              O      NaN  133.0   CENTRAL    Reservoir Hill  -76.63217   \n",
              "2        Outside  FIREARM  524.0  NORTHERN    Winston-Govans  -76.60697   \n",
              "3              I    OTHER  934.0  SOUTHERN  Carrollton Ridge  -76.64526   \n",
              "4              O    HANDS  113.0   CENTRAL     Downtown West  -76.61365   \n",
              "\n",
              "   Latitude                       Location 1     Premise  Total Incidents  \n",
              "0  39.22951  (39.2295100000, -76.6054100000)  ROW/TOWNHO                1  \n",
              "1  39.31360  (39.3136000000, -76.6321700000)      STREET                1  \n",
              "2  39.34768  (39.3476800000, -76.6069700000)      Street                1  \n",
              "3  39.28315  (39.2831500000, -76.6452600000)  ROW/TOWNHO                1  \n",
              "4  39.28756  (39.2875600000, -76.6136500000)      STREET                1  "
            ],
            "text/html": [
              "\n",
              "  <div id=\"df-32140f3d-c047-464c-9964-e8b76b35543c\" class=\"colab-df-container\">\n",
              "    <div>\n",
              "<style scoped>\n",
              "    .dataframe tbody tr th:only-of-type {\n",
              "        vertical-align: middle;\n",
              "    }\n",
              "\n",
              "    .dataframe tbody tr th {\n",
              "        vertical-align: top;\n",
              "    }\n",
              "\n",
              "    .dataframe thead th {\n",
              "        text-align: right;\n",
              "    }\n",
              "</style>\n",
              "<table border=\"1\" class=\"dataframe\">\n",
              "  <thead>\n",
              "    <tr style=\"text-align: right;\">\n",
              "      <th></th>\n",
              "      <th>CrimeDate</th>\n",
              "      <th>CrimeTime</th>\n",
              "      <th>CrimeCode</th>\n",
              "      <th>Location</th>\n",
              "      <th>Description</th>\n",
              "      <th>Inside/Outside</th>\n",
              "      <th>Weapon</th>\n",
              "      <th>Post</th>\n",
              "      <th>District</th>\n",
              "      <th>Neighborhood</th>\n",
              "      <th>Longitude</th>\n",
              "      <th>Latitude</th>\n",
              "      <th>Location 1</th>\n",
              "      <th>Premise</th>\n",
              "      <th>Total Incidents</th>\n",
              "    </tr>\n",
              "  </thead>\n",
              "  <tbody>\n",
              "    <tr>\n",
              "      <th>0</th>\n",
              "      <td>09/02/2017</td>\n",
              "      <td>23:30:00</td>\n",
              "      <td>3JK</td>\n",
              "      <td>4200 AUDREY AVE</td>\n",
              "      <td>ROBBERY - RESIDENCE</td>\n",
              "      <td>I</td>\n",
              "      <td>KNIFE</td>\n",
              "      <td>913.0</td>\n",
              "      <td>SOUTHERN</td>\n",
              "      <td>Brooklyn</td>\n",
              "      <td>-76.60541</td>\n",
              "      <td>39.22951</td>\n",
              "      <td>(39.2295100000, -76.6054100000)</td>\n",
              "      <td>ROW/TOWNHO</td>\n",
              "      <td>1</td>\n",
              "    </tr>\n",
              "    <tr>\n",
              "      <th>1</th>\n",
              "      <td>09/02/2017</td>\n",
              "      <td>23:00:00</td>\n",
              "      <td>7A</td>\n",
              "      <td>800 NEWINGTON AVE</td>\n",
              "      <td>AUTO THEFT</td>\n",
              "      <td>O</td>\n",
              "      <td>NaN</td>\n",
              "      <td>133.0</td>\n",
              "      <td>CENTRAL</td>\n",
              "      <td>Reservoir Hill</td>\n",
              "      <td>-76.63217</td>\n",
              "      <td>39.31360</td>\n",
              "      <td>(39.3136000000, -76.6321700000)</td>\n",
              "      <td>STREET</td>\n",
              "      <td>1</td>\n",
              "    </tr>\n",
              "    <tr>\n",
              "      <th>2</th>\n",
              "      <td>09/02/2017</td>\n",
              "      <td>22:53:00</td>\n",
              "      <td>9S</td>\n",
              "      <td>600 RADNOR AV</td>\n",
              "      <td>SHOOTING</td>\n",
              "      <td>Outside</td>\n",
              "      <td>FIREARM</td>\n",
              "      <td>524.0</td>\n",
              "      <td>NORTHERN</td>\n",
              "      <td>Winston-Govans</td>\n",
              "      <td>-76.60697</td>\n",
              "      <td>39.34768</td>\n",
              "      <td>(39.3476800000, -76.6069700000)</td>\n",
              "      <td>Street</td>\n",
              "      <td>1</td>\n",
              "    </tr>\n",
              "    <tr>\n",
              "      <th>3</th>\n",
              "      <td>09/02/2017</td>\n",
              "      <td>22:50:00</td>\n",
              "      <td>4C</td>\n",
              "      <td>1800 RAMSAY ST</td>\n",
              "      <td>AGG. ASSAULT</td>\n",
              "      <td>I</td>\n",
              "      <td>OTHER</td>\n",
              "      <td>934.0</td>\n",
              "      <td>SOUTHERN</td>\n",
              "      <td>Carrollton Ridge</td>\n",
              "      <td>-76.64526</td>\n",
              "      <td>39.28315</td>\n",
              "      <td>(39.2831500000, -76.6452600000)</td>\n",
              "      <td>ROW/TOWNHO</td>\n",
              "      <td>1</td>\n",
              "    </tr>\n",
              "    <tr>\n",
              "      <th>4</th>\n",
              "      <td>09/02/2017</td>\n",
              "      <td>22:31:00</td>\n",
              "      <td>4E</td>\n",
              "      <td>100 LIGHT ST</td>\n",
              "      <td>COMMON ASSAULT</td>\n",
              "      <td>O</td>\n",
              "      <td>HANDS</td>\n",
              "      <td>113.0</td>\n",
              "      <td>CENTRAL</td>\n",
              "      <td>Downtown West</td>\n",
              "      <td>-76.61365</td>\n",
              "      <td>39.28756</td>\n",
              "      <td>(39.2875600000, -76.6136500000)</td>\n",
              "      <td>STREET</td>\n",
              "      <td>1</td>\n",
              "    </tr>\n",
              "  </tbody>\n",
              "</table>\n",
              "</div>\n",
              "    <div class=\"colab-df-buttons\">\n",
              "\n",
              "  <div class=\"colab-df-container\">\n",
              "    <button class=\"colab-df-convert\" onclick=\"convertToInteractive('df-32140f3d-c047-464c-9964-e8b76b35543c')\"\n",
              "            title=\"Convert this dataframe to an interactive table.\"\n",
              "            style=\"display:none;\">\n",
              "\n",
              "  <svg xmlns=\"http://www.w3.org/2000/svg\" height=\"24px\" viewBox=\"0 -960 960 960\">\n",
              "    <path d=\"M120-120v-720h720v720H120Zm60-500h600v-160H180v160Zm220 220h160v-160H400v160Zm0 220h160v-160H400v160ZM180-400h160v-160H180v160Zm440 0h160v-160H620v160ZM180-180h160v-160H180v160Zm440 0h160v-160H620v160Z\"/>\n",
              "  </svg>\n",
              "    </button>\n",
              "\n",
              "  <style>\n",
              "    .colab-df-container {\n",
              "      display:flex;\n",
              "      gap: 12px;\n",
              "    }\n",
              "\n",
              "    .colab-df-convert {\n",
              "      background-color: #E8F0FE;\n",
              "      border: none;\n",
              "      border-radius: 50%;\n",
              "      cursor: pointer;\n",
              "      display: none;\n",
              "      fill: #1967D2;\n",
              "      height: 32px;\n",
              "      padding: 0 0 0 0;\n",
              "      width: 32px;\n",
              "    }\n",
              "\n",
              "    .colab-df-convert:hover {\n",
              "      background-color: #E2EBFA;\n",
              "      box-shadow: 0px 1px 2px rgba(60, 64, 67, 0.3), 0px 1px 3px 1px rgba(60, 64, 67, 0.15);\n",
              "      fill: #174EA6;\n",
              "    }\n",
              "\n",
              "    .colab-df-buttons div {\n",
              "      margin-bottom: 4px;\n",
              "    }\n",
              "\n",
              "    [theme=dark] .colab-df-convert {\n",
              "      background-color: #3B4455;\n",
              "      fill: #D2E3FC;\n",
              "    }\n",
              "\n",
              "    [theme=dark] .colab-df-convert:hover {\n",
              "      background-color: #434B5C;\n",
              "      box-shadow: 0px 1px 3px 1px rgba(0, 0, 0, 0.15);\n",
              "      filter: drop-shadow(0px 1px 2px rgba(0, 0, 0, 0.3));\n",
              "      fill: #FFFFFF;\n",
              "    }\n",
              "  </style>\n",
              "\n",
              "    <script>\n",
              "      const buttonEl =\n",
              "        document.querySelector('#df-32140f3d-c047-464c-9964-e8b76b35543c button.colab-df-convert');\n",
              "      buttonEl.style.display =\n",
              "        google.colab.kernel.accessAllowed ? 'block' : 'none';\n",
              "\n",
              "      async function convertToInteractive(key) {\n",
              "        const element = document.querySelector('#df-32140f3d-c047-464c-9964-e8b76b35543c');\n",
              "        const dataTable =\n",
              "          await google.colab.kernel.invokeFunction('convertToInteractive',\n",
              "                                                    [key], {});\n",
              "        if (!dataTable) return;\n",
              "\n",
              "        const docLinkHtml = 'Like what you see? Visit the ' +\n",
              "          '<a target=\"_blank\" href=https://colab.research.google.com/notebooks/data_table.ipynb>data table notebook</a>'\n",
              "          + ' to learn more about interactive tables.';\n",
              "        element.innerHTML = '';\n",
              "        dataTable['output_type'] = 'display_data';\n",
              "        await google.colab.output.renderOutput(dataTable, element);\n",
              "        const docLink = document.createElement('div');\n",
              "        docLink.innerHTML = docLinkHtml;\n",
              "        element.appendChild(docLink);\n",
              "      }\n",
              "    </script>\n",
              "  </div>\n",
              "\n",
              "\n",
              "<div id=\"df-40dbe600-a91e-4d20-9b5e-dcd7da427c6b\">\n",
              "  <button class=\"colab-df-quickchart\" onclick=\"quickchart('df-40dbe600-a91e-4d20-9b5e-dcd7da427c6b')\"\n",
              "            title=\"Suggest charts.\"\n",
              "            style=\"display:none;\">\n",
              "\n",
              "<svg xmlns=\"http://www.w3.org/2000/svg\" height=\"24px\"viewBox=\"0 0 24 24\"\n",
              "     width=\"24px\">\n",
              "    <g>\n",
              "        <path d=\"M19 3H5c-1.1 0-2 .9-2 2v14c0 1.1.9 2 2 2h14c1.1 0 2-.9 2-2V5c0-1.1-.9-2-2-2zM9 17H7v-7h2v7zm4 0h-2V7h2v10zm4 0h-2v-4h2v4z\"/>\n",
              "    </g>\n",
              "</svg>\n",
              "  </button>\n",
              "\n",
              "<style>\n",
              "  .colab-df-quickchart {\n",
              "    background-color: #E8F0FE;\n",
              "    border: none;\n",
              "    border-radius: 50%;\n",
              "    cursor: pointer;\n",
              "    display: none;\n",
              "    fill: #1967D2;\n",
              "    height: 32px;\n",
              "    padding: 0 0 0 0;\n",
              "    width: 32px;\n",
              "  }\n",
              "\n",
              "  .colab-df-quickchart:hover {\n",
              "    background-color: #E2EBFA;\n",
              "    box-shadow: 0px 1px 2px rgba(60, 64, 67, 0.3), 0px 1px 3px 1px rgba(60, 64, 67, 0.15);\n",
              "    fill: #174EA6;\n",
              "  }\n",
              "\n",
              "  [theme=dark] .colab-df-quickchart {\n",
              "    background-color: #3B4455;\n",
              "    fill: #D2E3FC;\n",
              "  }\n",
              "\n",
              "  [theme=dark] .colab-df-quickchart:hover {\n",
              "    background-color: #434B5C;\n",
              "    box-shadow: 0px 1px 3px 1px rgba(0, 0, 0, 0.15);\n",
              "    filter: drop-shadow(0px 1px 2px rgba(0, 0, 0, 0.3));\n",
              "    fill: #FFFFFF;\n",
              "  }\n",
              "</style>\n",
              "\n",
              "  <script>\n",
              "    async function quickchart(key) {\n",
              "      const charts = await google.colab.kernel.invokeFunction(\n",
              "          'suggestCharts', [key], {});\n",
              "    }\n",
              "    (() => {\n",
              "      let quickchartButtonEl =\n",
              "        document.querySelector('#df-40dbe600-a91e-4d20-9b5e-dcd7da427c6b button');\n",
              "      quickchartButtonEl.style.display =\n",
              "        google.colab.kernel.accessAllowed ? 'block' : 'none';\n",
              "    })();\n",
              "  </script>\n",
              "</div>\n",
              "    </div>\n",
              "  </div>\n"
            ]
          },
          "metadata": {},
          "execution_count": 4
        }
      ]
    },
    {
      "cell_type": "code",
      "source": [
        "df.shape"
      ],
      "metadata": {
        "colab": {
          "base_uri": "https://localhost:8080/"
        },
        "id": "0w8Gu2dRr9xw",
        "outputId": "8441d43b-41a8-4ada-8df5-a9a739ef465c"
      },
      "execution_count": 6,
      "outputs": [
        {
          "output_type": "execute_result",
          "data": {
            "text/plain": [
              "(276529, 15)"
            ]
          },
          "metadata": {},
          "execution_count": 6
        }
      ]
    },
    {
      "cell_type": "code",
      "source": [
        "columns = df.columns\n",
        "columns = columns.tolist()\n",
        "columns"
      ],
      "metadata": {
        "colab": {
          "base_uri": "https://localhost:8080/"
        },
        "id": "T_SsmGdpudGp",
        "outputId": "06053b41-3901-42a0-d238-6e5606d23290"
      },
      "execution_count": 7,
      "outputs": [
        {
          "output_type": "execute_result",
          "data": {
            "text/plain": [
              "['CrimeDate',\n",
              " 'CrimeTime',\n",
              " 'CrimeCode',\n",
              " 'Location',\n",
              " 'Description',\n",
              " 'Inside/Outside',\n",
              " 'Weapon',\n",
              " 'Post',\n",
              " 'District',\n",
              " 'Neighborhood',\n",
              " 'Longitude',\n",
              " 'Latitude',\n",
              " 'Location 1',\n",
              " 'Premise',\n",
              " 'Total Incidents']"
            ]
          },
          "metadata": {},
          "execution_count": 7
        }
      ]
    },
    {
      "cell_type": "code",
      "source": [
        "df.isna().sum()"
      ],
      "metadata": {
        "colab": {
          "base_uri": "https://localhost:8080/"
        },
        "id": "DEFu65-DsS8r",
        "outputId": "96fe7d86-3b19-4729-bc6d-72ff9c3a07d2"
      },
      "execution_count": 8,
      "outputs": [
        {
          "output_type": "execute_result",
          "data": {
            "text/plain": [
              "CrimeDate               0\n",
              "CrimeTime               0\n",
              "CrimeCode               0\n",
              "Location             2207\n",
              "Description             0\n",
              "Inside/Outside      10279\n",
              "Weapon             180952\n",
              "Post                  224\n",
              "District               80\n",
              "Neighborhood         2740\n",
              "Longitude            2204\n",
              "Latitude             2204\n",
              "Location 1           2204\n",
              "Premise             10757\n",
              "Total Incidents         0\n",
              "dtype: int64"
            ]
          },
          "metadata": {},
          "execution_count": 8
        }
      ]
    },
    {
      "cell_type": "markdown",
      "source": [
        "# 2. Data Cleaning"
      ],
      "metadata": {
        "id": "O4i2AtknwWcY"
      }
    },
    {
      "cell_type": "markdown",
      "source": [
        "As it is visible that, there are 1,80,952 cells are null in the weapons column. Which is around 65% rows of the whole data.\n",
        "Dropping this rows can lead to loss of much significant data, which can reduce the quality of the dataset.\n",
        "\n",
        "To deal with this null values, we can look at some other attributes, which can be related to this attribute. Like, Crime type can help to determine which type of weapon is used in a perticular crime."
      ],
      "metadata": {
        "id": "SDQLJV9stnox"
      }
    },
    {
      "cell_type": "code",
      "source": [
        "# Find the list of crime types in which there are null entries in the weapon column\n",
        "crime_with_no_weapon = set()\n",
        "for idx in df.index:\n",
        "    if pd.isnull(df['Weapon'][idx]):\n",
        "        crime_with_no_weapon.add(df['Description'][idx])\n",
        "crime_with_no_weapon"
      ],
      "metadata": {
        "colab": {
          "base_uri": "https://localhost:8080/"
        },
        "id": "Xyb67OiAzCs-",
        "outputId": "bc038464-4335-44b9-e8dd-ce90563248f9"
      },
      "execution_count": 9,
      "outputs": [
        {
          "output_type": "execute_result",
          "data": {
            "text/plain": [
              "{'ARSON',\n",
              " 'ASSAULT BY THREAT',\n",
              " 'AUTO THEFT',\n",
              " 'BURGLARY',\n",
              " 'LARCENY',\n",
              " 'LARCENY FROM AUTO',\n",
              " 'RAPE',\n",
              " 'ROBBERY - CARJACKING',\n",
              " 'ROBBERY - COMMERCIAL',\n",
              " 'ROBBERY - RESIDENCE',\n",
              " 'ROBBERY - STREET'}"
            ]
          },
          "metadata": {},
          "execution_count": 9
        }
      ]
    },
    {
      "cell_type": "markdown",
      "source": [
        "As it visible that where weapon values are null, the associated crime types are mostly robbery, theft, arson, larceny, etc. In these types of crime most of the time there are not any weapon involved in crime.\n",
        "\n",
        "So, the blank cells in weapon cells doesn't indicate that the data is missing, but we can conclude that there could no weapons involved in the crime at the first place.\n",
        "\n",
        "So, we can fill all this blank cells with the \"No weapon\" value, ....."
      ],
      "metadata": {
        "id": "oorVhe1535iv"
      }
    },
    {
      "cell_type": "code",
      "source": [
        "# fill blank cells in weapon column with \"No weapon\" value\n",
        "df['Weapon'].fillna(\"NO WEAPON\", inplace = True)"
      ],
      "metadata": {
        "id": "e7Kwi48e5Bsb"
      },
      "execution_count": 10,
      "outputs": []
    },
    {
      "cell_type": "code",
      "source": [
        "df['Total Incidents'].value_counts()"
      ],
      "metadata": {
        "colab": {
          "base_uri": "https://localhost:8080/"
        },
        "id": "9RoZoi605c04",
        "outputId": "d1d72f7f-1f43-4eb8-fb52-99dff0e2de43"
      },
      "execution_count": 11,
      "outputs": [
        {
          "output_type": "execute_result",
          "data": {
            "text/plain": [
              "1    276529\n",
              "Name: Total Incidents, dtype: int64"
            ]
          },
          "metadata": {},
          "execution_count": 11
        }
      ]
    },
    {
      "cell_type": "markdown",
      "source": [
        "In the 'Total Incident' columns all the entries are filled with value 1. Which does not provide any value to the dataset. So, there is no loss in dataset quality in dropping this columns."
      ],
      "metadata": {
        "id": "rmoHQ4wd6MFN"
      }
    },
    {
      "cell_type": "markdown",
      "source": [
        "After this, the 'Location 1' columns contains the tuple of (Longitude, Latitude) as values. There are also separate columns for Longitude and Latitude as well. So, dropping the Location 1 column also does not affect the dataset quality."
      ],
      "metadata": {
        "id": "Eeehe-XA66CJ"
      }
    },
    {
      "cell_type": "code",
      "source": [
        "# dropping Total Incident, Longitude, and Latitude columns\n",
        "df.drop(['Total Incidents', 'Location 1'], axis=1, inplace=True)\n",
        "df.head()"
      ],
      "metadata": {
        "colab": {
          "base_uri": "https://localhost:8080/",
          "height": 347
        },
        "id": "jFeYs9xc7XZH",
        "outputId": "d2dd94fd-556d-477f-827e-aef59f374a8a"
      },
      "execution_count": 12,
      "outputs": [
        {
          "output_type": "execute_result",
          "data": {
            "text/plain": [
              "    CrimeDate CrimeTime CrimeCode           Location          Description  \\\n",
              "0  09/02/2017  23:30:00       3JK    4200 AUDREY AVE  ROBBERY - RESIDENCE   \n",
              "1  09/02/2017  23:00:00        7A  800 NEWINGTON AVE           AUTO THEFT   \n",
              "2  09/02/2017  22:53:00        9S      600 RADNOR AV             SHOOTING   \n",
              "3  09/02/2017  22:50:00        4C     1800 RAMSAY ST         AGG. ASSAULT   \n",
              "4  09/02/2017  22:31:00        4E       100 LIGHT ST       COMMON ASSAULT   \n",
              "\n",
              "  Inside/Outside     Weapon   Post  District      Neighborhood  Longitude  \\\n",
              "0              I      KNIFE  913.0  SOUTHERN          Brooklyn  -76.60541   \n",
              "1              O  NO WEAPON  133.0   CENTRAL    Reservoir Hill  -76.63217   \n",
              "2        Outside    FIREARM  524.0  NORTHERN    Winston-Govans  -76.60697   \n",
              "3              I      OTHER  934.0  SOUTHERN  Carrollton Ridge  -76.64526   \n",
              "4              O      HANDS  113.0   CENTRAL     Downtown West  -76.61365   \n",
              "\n",
              "   Latitude     Premise  \n",
              "0  39.22951  ROW/TOWNHO  \n",
              "1  39.31360      STREET  \n",
              "2  39.34768      Street  \n",
              "3  39.28315  ROW/TOWNHO  \n",
              "4  39.28756      STREET  "
            ],
            "text/html": [
              "\n",
              "  <div id=\"df-cb1e3e9f-aff8-43f7-b7c4-cff64b781277\" class=\"colab-df-container\">\n",
              "    <div>\n",
              "<style scoped>\n",
              "    .dataframe tbody tr th:only-of-type {\n",
              "        vertical-align: middle;\n",
              "    }\n",
              "\n",
              "    .dataframe tbody tr th {\n",
              "        vertical-align: top;\n",
              "    }\n",
              "\n",
              "    .dataframe thead th {\n",
              "        text-align: right;\n",
              "    }\n",
              "</style>\n",
              "<table border=\"1\" class=\"dataframe\">\n",
              "  <thead>\n",
              "    <tr style=\"text-align: right;\">\n",
              "      <th></th>\n",
              "      <th>CrimeDate</th>\n",
              "      <th>CrimeTime</th>\n",
              "      <th>CrimeCode</th>\n",
              "      <th>Location</th>\n",
              "      <th>Description</th>\n",
              "      <th>Inside/Outside</th>\n",
              "      <th>Weapon</th>\n",
              "      <th>Post</th>\n",
              "      <th>District</th>\n",
              "      <th>Neighborhood</th>\n",
              "      <th>Longitude</th>\n",
              "      <th>Latitude</th>\n",
              "      <th>Premise</th>\n",
              "    </tr>\n",
              "  </thead>\n",
              "  <tbody>\n",
              "    <tr>\n",
              "      <th>0</th>\n",
              "      <td>09/02/2017</td>\n",
              "      <td>23:30:00</td>\n",
              "      <td>3JK</td>\n",
              "      <td>4200 AUDREY AVE</td>\n",
              "      <td>ROBBERY - RESIDENCE</td>\n",
              "      <td>I</td>\n",
              "      <td>KNIFE</td>\n",
              "      <td>913.0</td>\n",
              "      <td>SOUTHERN</td>\n",
              "      <td>Brooklyn</td>\n",
              "      <td>-76.60541</td>\n",
              "      <td>39.22951</td>\n",
              "      <td>ROW/TOWNHO</td>\n",
              "    </tr>\n",
              "    <tr>\n",
              "      <th>1</th>\n",
              "      <td>09/02/2017</td>\n",
              "      <td>23:00:00</td>\n",
              "      <td>7A</td>\n",
              "      <td>800 NEWINGTON AVE</td>\n",
              "      <td>AUTO THEFT</td>\n",
              "      <td>O</td>\n",
              "      <td>NO WEAPON</td>\n",
              "      <td>133.0</td>\n",
              "      <td>CENTRAL</td>\n",
              "      <td>Reservoir Hill</td>\n",
              "      <td>-76.63217</td>\n",
              "      <td>39.31360</td>\n",
              "      <td>STREET</td>\n",
              "    </tr>\n",
              "    <tr>\n",
              "      <th>2</th>\n",
              "      <td>09/02/2017</td>\n",
              "      <td>22:53:00</td>\n",
              "      <td>9S</td>\n",
              "      <td>600 RADNOR AV</td>\n",
              "      <td>SHOOTING</td>\n",
              "      <td>Outside</td>\n",
              "      <td>FIREARM</td>\n",
              "      <td>524.0</td>\n",
              "      <td>NORTHERN</td>\n",
              "      <td>Winston-Govans</td>\n",
              "      <td>-76.60697</td>\n",
              "      <td>39.34768</td>\n",
              "      <td>Street</td>\n",
              "    </tr>\n",
              "    <tr>\n",
              "      <th>3</th>\n",
              "      <td>09/02/2017</td>\n",
              "      <td>22:50:00</td>\n",
              "      <td>4C</td>\n",
              "      <td>1800 RAMSAY ST</td>\n",
              "      <td>AGG. ASSAULT</td>\n",
              "      <td>I</td>\n",
              "      <td>OTHER</td>\n",
              "      <td>934.0</td>\n",
              "      <td>SOUTHERN</td>\n",
              "      <td>Carrollton Ridge</td>\n",
              "      <td>-76.64526</td>\n",
              "      <td>39.28315</td>\n",
              "      <td>ROW/TOWNHO</td>\n",
              "    </tr>\n",
              "    <tr>\n",
              "      <th>4</th>\n",
              "      <td>09/02/2017</td>\n",
              "      <td>22:31:00</td>\n",
              "      <td>4E</td>\n",
              "      <td>100 LIGHT ST</td>\n",
              "      <td>COMMON ASSAULT</td>\n",
              "      <td>O</td>\n",
              "      <td>HANDS</td>\n",
              "      <td>113.0</td>\n",
              "      <td>CENTRAL</td>\n",
              "      <td>Downtown West</td>\n",
              "      <td>-76.61365</td>\n",
              "      <td>39.28756</td>\n",
              "      <td>STREET</td>\n",
              "    </tr>\n",
              "  </tbody>\n",
              "</table>\n",
              "</div>\n",
              "    <div class=\"colab-df-buttons\">\n",
              "\n",
              "  <div class=\"colab-df-container\">\n",
              "    <button class=\"colab-df-convert\" onclick=\"convertToInteractive('df-cb1e3e9f-aff8-43f7-b7c4-cff64b781277')\"\n",
              "            title=\"Convert this dataframe to an interactive table.\"\n",
              "            style=\"display:none;\">\n",
              "\n",
              "  <svg xmlns=\"http://www.w3.org/2000/svg\" height=\"24px\" viewBox=\"0 -960 960 960\">\n",
              "    <path d=\"M120-120v-720h720v720H120Zm60-500h600v-160H180v160Zm220 220h160v-160H400v160Zm0 220h160v-160H400v160ZM180-400h160v-160H180v160Zm440 0h160v-160H620v160ZM180-180h160v-160H180v160Zm440 0h160v-160H620v160Z\"/>\n",
              "  </svg>\n",
              "    </button>\n",
              "\n",
              "  <style>\n",
              "    .colab-df-container {\n",
              "      display:flex;\n",
              "      gap: 12px;\n",
              "    }\n",
              "\n",
              "    .colab-df-convert {\n",
              "      background-color: #E8F0FE;\n",
              "      border: none;\n",
              "      border-radius: 50%;\n",
              "      cursor: pointer;\n",
              "      display: none;\n",
              "      fill: #1967D2;\n",
              "      height: 32px;\n",
              "      padding: 0 0 0 0;\n",
              "      width: 32px;\n",
              "    }\n",
              "\n",
              "    .colab-df-convert:hover {\n",
              "      background-color: #E2EBFA;\n",
              "      box-shadow: 0px 1px 2px rgba(60, 64, 67, 0.3), 0px 1px 3px 1px rgba(60, 64, 67, 0.15);\n",
              "      fill: #174EA6;\n",
              "    }\n",
              "\n",
              "    .colab-df-buttons div {\n",
              "      margin-bottom: 4px;\n",
              "    }\n",
              "\n",
              "    [theme=dark] .colab-df-convert {\n",
              "      background-color: #3B4455;\n",
              "      fill: #D2E3FC;\n",
              "    }\n",
              "\n",
              "    [theme=dark] .colab-df-convert:hover {\n",
              "      background-color: #434B5C;\n",
              "      box-shadow: 0px 1px 3px 1px rgba(0, 0, 0, 0.15);\n",
              "      filter: drop-shadow(0px 1px 2px rgba(0, 0, 0, 0.3));\n",
              "      fill: #FFFFFF;\n",
              "    }\n",
              "  </style>\n",
              "\n",
              "    <script>\n",
              "      const buttonEl =\n",
              "        document.querySelector('#df-cb1e3e9f-aff8-43f7-b7c4-cff64b781277 button.colab-df-convert');\n",
              "      buttonEl.style.display =\n",
              "        google.colab.kernel.accessAllowed ? 'block' : 'none';\n",
              "\n",
              "      async function convertToInteractive(key) {\n",
              "        const element = document.querySelector('#df-cb1e3e9f-aff8-43f7-b7c4-cff64b781277');\n",
              "        const dataTable =\n",
              "          await google.colab.kernel.invokeFunction('convertToInteractive',\n",
              "                                                    [key], {});\n",
              "        if (!dataTable) return;\n",
              "\n",
              "        const docLinkHtml = 'Like what you see? Visit the ' +\n",
              "          '<a target=\"_blank\" href=https://colab.research.google.com/notebooks/data_table.ipynb>data table notebook</a>'\n",
              "          + ' to learn more about interactive tables.';\n",
              "        element.innerHTML = '';\n",
              "        dataTable['output_type'] = 'display_data';\n",
              "        await google.colab.output.renderOutput(dataTable, element);\n",
              "        const docLink = document.createElement('div');\n",
              "        docLink.innerHTML = docLinkHtml;\n",
              "        element.appendChild(docLink);\n",
              "      }\n",
              "    </script>\n",
              "  </div>\n",
              "\n",
              "\n",
              "<div id=\"df-e96dab09-be37-4496-bd06-22fa69218f0a\">\n",
              "  <button class=\"colab-df-quickchart\" onclick=\"quickchart('df-e96dab09-be37-4496-bd06-22fa69218f0a')\"\n",
              "            title=\"Suggest charts.\"\n",
              "            style=\"display:none;\">\n",
              "\n",
              "<svg xmlns=\"http://www.w3.org/2000/svg\" height=\"24px\"viewBox=\"0 0 24 24\"\n",
              "     width=\"24px\">\n",
              "    <g>\n",
              "        <path d=\"M19 3H5c-1.1 0-2 .9-2 2v14c0 1.1.9 2 2 2h14c1.1 0 2-.9 2-2V5c0-1.1-.9-2-2-2zM9 17H7v-7h2v7zm4 0h-2V7h2v10zm4 0h-2v-4h2v4z\"/>\n",
              "    </g>\n",
              "</svg>\n",
              "  </button>\n",
              "\n",
              "<style>\n",
              "  .colab-df-quickchart {\n",
              "    background-color: #E8F0FE;\n",
              "    border: none;\n",
              "    border-radius: 50%;\n",
              "    cursor: pointer;\n",
              "    display: none;\n",
              "    fill: #1967D2;\n",
              "    height: 32px;\n",
              "    padding: 0 0 0 0;\n",
              "    width: 32px;\n",
              "  }\n",
              "\n",
              "  .colab-df-quickchart:hover {\n",
              "    background-color: #E2EBFA;\n",
              "    box-shadow: 0px 1px 2px rgba(60, 64, 67, 0.3), 0px 1px 3px 1px rgba(60, 64, 67, 0.15);\n",
              "    fill: #174EA6;\n",
              "  }\n",
              "\n",
              "  [theme=dark] .colab-df-quickchart {\n",
              "    background-color: #3B4455;\n",
              "    fill: #D2E3FC;\n",
              "  }\n",
              "\n",
              "  [theme=dark] .colab-df-quickchart:hover {\n",
              "    background-color: #434B5C;\n",
              "    box-shadow: 0px 1px 3px 1px rgba(0, 0, 0, 0.15);\n",
              "    filter: drop-shadow(0px 1px 2px rgba(0, 0, 0, 0.3));\n",
              "    fill: #FFFFFF;\n",
              "  }\n",
              "</style>\n",
              "\n",
              "  <script>\n",
              "    async function quickchart(key) {\n",
              "      const charts = await google.colab.kernel.invokeFunction(\n",
              "          'suggestCharts', [key], {});\n",
              "    }\n",
              "    (() => {\n",
              "      let quickchartButtonEl =\n",
              "        document.querySelector('#df-e96dab09-be37-4496-bd06-22fa69218f0a button');\n",
              "      quickchartButtonEl.style.display =\n",
              "        google.colab.kernel.accessAllowed ? 'block' : 'none';\n",
              "    })();\n",
              "  </script>\n",
              "</div>\n",
              "    </div>\n",
              "  </div>\n"
            ]
          },
          "metadata": {},
          "execution_count": 12
        }
      ]
    },
    {
      "cell_type": "code",
      "source": [
        "df['Inside/Outside'].value_counts()"
      ],
      "metadata": {
        "colab": {
          "base_uri": "https://localhost:8080/"
        },
        "id": "uEJyfRZX9B5D",
        "outputId": "2a51c491-705d-4f64-f61b-545ae85bd8b7"
      },
      "execution_count": 13,
      "outputs": [
        {
          "output_type": "execute_result",
          "data": {
            "text/plain": [
              "I          131999\n",
              "O          129782\n",
              "Outside      3837\n",
              "Inside        632\n",
              "Name: Inside/Outside, dtype: int64"
            ]
          },
          "metadata": {},
          "execution_count": 13
        }
      ]
    },
    {
      "cell_type": "markdown",
      "source": [
        "Here, I suggest for Inside and O suggest for outside. There are also few entries in which Outside is written insted of O, and Inside is written insted of I. So, we should change those values with O and I respectively to maintain ...."
      ],
      "metadata": {
        "id": "vFJ_EoKi9JVD"
      }
    },
    {
      "cell_type": "code",
      "source": [
        "df.loc[df['Inside/Outside'] == \"Outside\", 'Inside/Outside'] = 'O'\n",
        "df.loc[df['Inside/Outside'] == \"Inside\", 'Inside/Outside'] = 'I'\n",
        "df['Inside/Outside'].value_counts()"
      ],
      "metadata": {
        "colab": {
          "base_uri": "https://localhost:8080/"
        },
        "id": "NYFmzysI9mf7",
        "outputId": "28c5a379-78bb-4b44-d505-426e35b73065"
      },
      "execution_count": 14,
      "outputs": [
        {
          "output_type": "execute_result",
          "data": {
            "text/plain": [
              "O    133619\n",
              "I    132631\n",
              "Name: Inside/Outside, dtype: int64"
            ]
          },
          "metadata": {},
          "execution_count": 14
        }
      ]
    },
    {
      "cell_type": "code",
      "source": [
        "# After all this, if there are still some entries with null or none values drop them\n",
        "df.isna().sum()"
      ],
      "metadata": {
        "colab": {
          "base_uri": "https://localhost:8080/"
        },
        "id": "lCIyihUh8Gde",
        "outputId": "7c96d117-4421-40f8-8454-f9eb524268f1"
      },
      "execution_count": 15,
      "outputs": [
        {
          "output_type": "execute_result",
          "data": {
            "text/plain": [
              "CrimeDate             0\n",
              "CrimeTime             0\n",
              "CrimeCode             0\n",
              "Location           2207\n",
              "Description           0\n",
              "Inside/Outside    10279\n",
              "Weapon                0\n",
              "Post                224\n",
              "District             80\n",
              "Neighborhood       2740\n",
              "Longitude          2204\n",
              "Latitude           2204\n",
              "Premise           10757\n",
              "dtype: int64"
            ]
          },
          "metadata": {},
          "execution_count": 15
        }
      ]
    },
    {
      "cell_type": "code",
      "source": [
        "df.dropna(inplace = True)\n",
        "df.isna().sum(), df.shape"
      ],
      "metadata": {
        "colab": {
          "base_uri": "https://localhost:8080/"
        },
        "id": "Bf3bALMF-xme",
        "outputId": "926bde77-8f37-4806-f53c-0f4e0dbab974"
      },
      "execution_count": 16,
      "outputs": [
        {
          "output_type": "execute_result",
          "data": {
            "text/plain": [
              "(CrimeDate         0\n",
              " CrimeTime         0\n",
              " CrimeCode         0\n",
              " Location          0\n",
              " Description       0\n",
              " Inside/Outside    0\n",
              " Weapon            0\n",
              " Post              0\n",
              " District          0\n",
              " Neighborhood      0\n",
              " Longitude         0\n",
              " Latitude          0\n",
              " Premise           0\n",
              " dtype: int64,\n",
              " (263118, 13))"
            ]
          },
          "metadata": {},
          "execution_count": 16
        }
      ]
    },
    {
      "cell_type": "code",
      "source": [
        "df.isnull().sum()"
      ],
      "metadata": {
        "colab": {
          "base_uri": "https://localhost:8080/"
        },
        "id": "TAMXu7uiTZmi",
        "outputId": "a388262e-8d5a-40b1-d4fa-5f10fbb0ee36"
      },
      "execution_count": 17,
      "outputs": [
        {
          "output_type": "execute_result",
          "data": {
            "text/plain": [
              "CrimeDate         0\n",
              "CrimeTime         0\n",
              "CrimeCode         0\n",
              "Location          0\n",
              "Description       0\n",
              "Inside/Outside    0\n",
              "Weapon            0\n",
              "Post              0\n",
              "District          0\n",
              "Neighborhood      0\n",
              "Longitude         0\n",
              "Latitude          0\n",
              "Premise           0\n",
              "dtype: int64"
            ]
          },
          "metadata": {},
          "execution_count": 17
        }
      ]
    },
    {
      "cell_type": "markdown",
      "source": [
        "We would now save our cleaned data frame into cleaned.csv file"
      ],
      "metadata": {
        "id": "cNvvw154T49r"
      }
    },
    {
      "cell_type": "code",
      "source": [
        "df.to_csv(\"cleaned.csv\")"
      ],
      "metadata": {
        "id": "iBHdSuvmTb_X"
      },
      "execution_count": 18,
      "outputs": []
    },
    {
      "cell_type": "code",
      "source": [],
      "metadata": {
        "id": "fEs-LLUY-ISF"
      },
      "execution_count": null,
      "outputs": []
    }
  ]
}